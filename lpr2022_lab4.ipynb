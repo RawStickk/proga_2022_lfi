{
 "cells": [
  {
   "cell_type": "markdown",
   "metadata": {},
   "source": [
    "# Библиотека numpy"
   ]
  },
  {
   "cell_type": "markdown",
   "metadata": {},
   "source": [
    "**NumPy** — это библиотека языка Python, добавляющая поддержку больших многомерных массивов и матриц, вместе с большой библиотекой высокоуровневых (и очень быстрых) математических функций для операций с этими массивами."
   ]
  },
  {
   "cell_type": "markdown",
   "metadata": {},
   "source": [
    "Основным объектом NumPy является однородный многомерный массив (в numpy называется numpy.ndarray). Это многомерный массив элементов (обычно чисел), одного типа.\n",
    "\n",
    "Наиболее важные атрибуты объектов ndarray:\n",
    "\n",
    "**ndarray.ndim** - число измерений (чаще их называют \"оси\") массива.\n",
    "\n",
    "**ndarray.shape** - размеры массива, его форма. Это кортеж натуральных чисел, показывающий длину массива по каждой оси. Для матрицы из n строк и m столбов, shape будет (n,m). Число элементов кортежа shape равно ndim.\n",
    "\n",
    "**ndarray.size** - количество элементов массива. Очевидно, равно произведению всех элементов атрибута shape.\n",
    "\n",
    "**ndarray.dtype** - объект, описывающий тип элементов массива. Можно определить dtype, используя стандартные типы данных Python. NumPy здесь предоставляет целый букет возможностей, как встроенных, например: bool_, character, int8, int16, int32, int64, float8, float16, float32, float64, complex64, object_, так и возможность определить собственные типы данных, в том числе и составные.\n",
    "\n",
    "**ndarray.itemsize** - размер каждого элемента массива в байтах."
   ]
  },
  {
   "cell_type": "markdown",
   "metadata": {},
   "source": [
    "# Создание массивов"
   ]
  },
  {
   "cell_type": "markdown",
   "metadata": {},
   "source": [
    "В NumPy существует много способов создать массив. Один из наиболее простых - создать массив из обычных списков или кортежей Python, используя функцию numpy.array() (запомните: array - функция, создающая объект типа ndarray):"
   ]
  },
  {
   "cell_type": "code",
   "execution_count": 131,
   "metadata": {},
   "outputs": [
    {
     "data": {
      "text/plain": [
       "array([1, 2, 3])"
      ]
     },
     "execution_count": 131,
     "metadata": {},
     "output_type": "execute_result"
    }
   ],
   "source": [
    "import numpy as np\n",
    "\n",
    "a = np.array([1, 2, 3])\n",
    "a"
   ]
  },
  {
   "cell_type": "code",
   "execution_count": 2,
   "metadata": {},
   "outputs": [
    {
     "data": {
      "text/plain": [
       "numpy.ndarray"
      ]
     },
     "execution_count": 2,
     "metadata": {},
     "output_type": "execute_result"
    }
   ],
   "source": [
    "type(a)"
   ]
  },
  {
   "cell_type": "markdown",
   "metadata": {},
   "source": [
    "Функция array() трансформирует вложенные последовательности в многомерные массивы. Тип элементов массива зависит от типа элементов исходной последовательности (но можно и переопределить его в момент создания)."
   ]
  },
  {
   "cell_type": "code",
   "execution_count": 3,
   "metadata": {},
   "outputs": [
    {
     "data": {
      "text/plain": [
       "array([[1.5, 2. , 3. ],\n",
       "       [4. , 5. , 6. ]])"
      ]
     },
     "execution_count": 3,
     "metadata": {},
     "output_type": "execute_result"
    }
   ],
   "source": [
    "b = np.array([[1.5, 2, 3], [4, 5, 6]])\n",
    "b"
   ]
  },
  {
   "cell_type": "markdown",
   "metadata": {},
   "source": [
    "Можно также переопределить тип в момент создания:"
   ]
  },
  {
   "cell_type": "code",
   "execution_count": 4,
   "metadata": {},
   "outputs": [
    {
     "name": "stderr",
     "output_type": "stream",
     "text": [
      "/tmp/ipykernel_4567/2311286893.py:1: DeprecationWarning: `np.complex` is a deprecated alias for the builtin `complex`. To silence this warning, use `complex` by itself. Doing this will not modify any behavior and is safe. If you specifically wanted the numpy scalar type, use `np.complex128` here.\n",
      "Deprecated in NumPy 1.20; for more details and guidance: https://numpy.org/devdocs/release/1.20.0-notes.html#deprecations\n",
      "  b = np.array([[1.5, 2, 3], [4, 5, 6]], dtype=np.complex)\n"
     ]
    },
    {
     "data": {
      "text/plain": [
       "array([[1.5+0.j, 2. +0.j, 3. +0.j],\n",
       "       [4. +0.j, 5. +0.j, 6. +0.j]])"
      ]
     },
     "execution_count": 4,
     "metadata": {},
     "output_type": "execute_result"
    }
   ],
   "source": [
    "b = np.array([[1.5, 2, 3], [4, 5, 6]], dtype=np.complex)\n",
    "b"
   ]
  },
  {
   "cell_type": "markdown",
   "metadata": {},
   "source": [
    "Функция array() не единственная функция для создания массивов. Обычно элементы массива вначале неизвестны, а массив, в котором они будут храниться, уже нужен. Поэтому имеется несколько функций для того, чтобы создавать массивы с каким-то исходным содержимым (по умолчанию тип создаваемого массива — float64).\n",
    "\n",
    "Функция zeros() создает массив из нулей, а функция ones() — массив из единиц. Обе функции принимают кортеж с размерами, и аргумент dtype:"
   ]
  },
  {
   "cell_type": "code",
   "execution_count": 5,
   "metadata": {},
   "outputs": [
    {
     "data": {
      "text/plain": [
       "array([[0., 0., 0., 0., 0.],\n",
       "       [0., 0., 0., 0., 0.],\n",
       "       [0., 0., 0., 0., 0.]])"
      ]
     },
     "execution_count": 5,
     "metadata": {},
     "output_type": "execute_result"
    }
   ],
   "source": [
    "a = np.zeros((3, 5))\n",
    "a"
   ]
  },
  {
   "cell_type": "code",
   "execution_count": 6,
   "metadata": {},
   "outputs": [
    {
     "data": {
      "text/plain": [
       "array([[[1., 1.],\n",
       "        [1., 1.]],\n",
       "\n",
       "       [[1., 1.],\n",
       "        [1., 1.]]])"
      ]
     },
     "execution_count": 6,
     "metadata": {},
     "output_type": "execute_result"
    }
   ],
   "source": [
    "a = np.ones((2, 2, 2))\n",
    "a"
   ]
  },
  {
   "cell_type": "markdown",
   "metadata": {},
   "source": [
    "Функция eye() создаёт единичную матрицу (двумерный массив)"
   ]
  },
  {
   "cell_type": "code",
   "execution_count": 7,
   "metadata": {},
   "outputs": [
    {
     "data": {
      "text/plain": [
       "array([[1., 0., 0., 0., 0.],\n",
       "       [0., 1., 0., 0., 0.],\n",
       "       [0., 0., 1., 0., 0.],\n",
       "       [0., 0., 0., 1., 0.],\n",
       "       [0., 0., 0., 0., 1.]])"
      ]
     },
     "execution_count": 7,
     "metadata": {},
     "output_type": "execute_result"
    }
   ],
   "source": [
    "a = np.eye(5)\n",
    "a"
   ]
  },
  {
   "cell_type": "markdown",
   "metadata": {},
   "source": [
    "Функция empty() создает массив без его заполнения. Исходное содержимое случайно и зависит от состояния памяти на момент создания массива (то есть от того мусора, что в ней хранится):"
   ]
  },
  {
   "cell_type": "code",
   "execution_count": 8,
   "metadata": {},
   "outputs": [
    {
     "data": {
      "text/plain": [
       "array([[6.93839224e-310, 2.14600378e-316, 0.00000000e+000],\n",
       "       [0.00000000e+000, 0.00000000e+000, 0.00000000e+000],\n",
       "       [0.00000000e+000, 0.00000000e+000, 0.00000000e+000]])"
      ]
     },
     "execution_count": 8,
     "metadata": {},
     "output_type": "execute_result"
    }
   ],
   "source": [
    "a = np.empty((3, 3))\n",
    "a"
   ]
  },
  {
   "cell_type": "markdown",
   "metadata": {},
   "source": [
    "Для создания последовательностей чисел, в NumPy имеется функция arange(), аналогичная встроенной в Python range(), только вместо списков она возвращает массивы, и принимает не только целые значения:"
   ]
  },
  {
   "cell_type": "code",
   "execution_count": 9,
   "metadata": {},
   "outputs": [
    {
     "data": {
      "text/plain": [
       "array([10, 15, 20, 25])"
      ]
     },
     "execution_count": 9,
     "metadata": {},
     "output_type": "execute_result"
    }
   ],
   "source": [
    "a = np.arange(10, 30, 5)\n",
    "a"
   ]
  },
  {
   "cell_type": "code",
   "execution_count": 10,
   "metadata": {},
   "outputs": [
    {
     "data": {
      "text/plain": [
       "array([0. , 0.1, 0.2, 0.3, 0.4, 0.5, 0.6, 0.7, 0.8, 0.9])"
      ]
     },
     "execution_count": 10,
     "metadata": {},
     "output_type": "execute_result"
    }
   ],
   "source": [
    "a = np.arange(0, 1, 0.1)\n",
    "a"
   ]
  },
  {
   "cell_type": "markdown",
   "metadata": {},
   "source": [
    "Вообще, при использовании arange() с аргументами типа float, сложно быть уверенным в том, сколько элементов будет получено (из-за ограничения точности чисел с плавающей запятой). Поэтому, в таких случаях обычно лучше использовать функцию linspace(), которая вместо шага в качестве одного из аргументов принимает число, равное количеству нужных элементов:"
   ]
  },
  {
   "cell_type": "code",
   "execution_count": 11,
   "metadata": {},
   "outputs": [
    {
     "data": {
      "text/plain": [
       "array([0.  , 0.25, 0.5 , 0.75, 1.  , 1.25, 1.5 , 1.75, 2.  ])"
      ]
     },
     "execution_count": 11,
     "metadata": {},
     "output_type": "execute_result"
    }
   ],
   "source": [
    "a = np.linspace(0, 2, 9)  # 9 чисел от 0 до 2 включительно\n",
    "a"
   ]
  },
  {
   "cell_type": "markdown",
   "metadata": {},
   "source": [
    "# Изменение формы массивов"
   ]
  },
  {
   "cell_type": "markdown",
   "metadata": {},
   "source": [
    "Предположим, у нас имеется массив, состоящий из десяти чисел: "
   ]
  },
  {
   "cell_type": "code",
   "execution_count": 12,
   "metadata": {},
   "outputs": [
    {
     "data": {
      "text/plain": [
       "array([0, 1, 2, 3, 4, 5, 6, 7, 8, 9])"
      ]
     },
     "execution_count": 12,
     "metadata": {},
     "output_type": "execute_result"
    }
   ],
   "source": [
    "a = np.arange(10)\n",
    "a"
   ]
  },
  {
   "cell_type": "markdown",
   "metadata": {},
   "source": [
    "Для изменения формы этого массива, достаточно указать свойству shape кортеж с новыми размерами, например, так: "
   ]
  },
  {
   "cell_type": "code",
   "execution_count": 13,
   "metadata": {},
   "outputs": [
    {
     "data": {
      "text/plain": [
       "array([[0, 1, 2, 3, 4],\n",
       "       [5, 6, 7, 8, 9]])"
      ]
     },
     "execution_count": 13,
     "metadata": {},
     "output_type": "execute_result"
    }
   ],
   "source": [
    "a.shape = 2, 5\n",
    "a"
   ]
  },
  {
   "cell_type": "markdown",
   "metadata": {},
   "source": [
    "В результате изменится представление массива, на которое ссылается переменная a. Если же требуется создать новое представление массива, сохранив прежнее, то следует воспользоваться методом reshape(): "
   ]
  },
  {
   "cell_type": "markdown",
   "metadata": {},
   "source": [
    "b = a.reshape(10)\n",
    "b"
   ]
  },
  {
   "cell_type": "markdown",
   "metadata": {},
   "source": [
    "Cсылки b и a будут использовать одни и те же данные, то есть, изменение массива через b: "
   ]
  },
  {
   "cell_type": "code",
   "execution_count": 36,
   "metadata": {},
   "outputs": [
    {
     "name": "stdout",
     "output_type": "stream",
     "text": [
      "[-1  1  2  3  4  5  6  7  8  9]\n"
     ]
    }
   ],
   "source": [
    "b = a.reshape(10)\n",
    "print(b)\n",
    "b[0] = -1 # приведет к изменению соответствующего элемента массива a: "
   ]
  },
  {
   "cell_type": "markdown",
   "metadata": {},
   "source": [
    "У свойства shape и метода reshape() размерность должна охватывать все элементы массива. Например, вот такая команда: "
   ]
  },
  {
   "cell_type": "code",
   "execution_count": 15,
   "metadata": {},
   "outputs": [
    {
     "ename": "ValueError",
     "evalue": "cannot reshape array of size 10 into shape (3,3)",
     "output_type": "error",
     "traceback": [
      "\u001b[0;31m---------------------------------------------------------------------------\u001b[0m",
      "\u001b[0;31mValueError\u001b[0m                                Traceback (most recent call last)",
      "\u001b[0;32m/tmp/ipykernel_4567/2444272619.py\u001b[0m in \u001b[0;36m<module>\u001b[0;34m\u001b[0m\n\u001b[0;32m----> 1\u001b[0;31m \u001b[0ma\u001b[0m\u001b[0;34m.\u001b[0m\u001b[0mshape\u001b[0m \u001b[0;34m=\u001b[0m \u001b[0;36m3\u001b[0m\u001b[0;34m,\u001b[0m \u001b[0;36m3\u001b[0m\u001b[0;34m\u001b[0m\u001b[0;34m\u001b[0m\u001b[0m\n\u001b[0m",
      "\u001b[0;31mValueError\u001b[0m: cannot reshape array of size 10 into shape (3,3)"
     ]
    }
   ],
   "source": [
    "a.shape = 3, 3"
   ]
  },
  {
   "cell_type": "markdown",
   "metadata": {},
   "source": [
    "приведет к ошибке, т.к. размерность 3x3 = 9 элементов, а в массиве 10 элементов. Здесь всегда должно выполняться равенство:\n",
    "\n",
    "n1 x n2 x … x nN = число элементов массива "
   ]
  },
  {
   "cell_type": "markdown",
   "metadata": {},
   "source": [
    "Но допускается делать так: "
   ]
  },
  {
   "cell_type": "code",
   "execution_count": 16,
   "metadata": {},
   "outputs": [
    {
     "data": {
      "text/plain": [
       "array([[0, 1],\n",
       "       [2, 3],\n",
       "       [4, 5],\n",
       "       [6, 7],\n",
       "       [8, 9]])"
      ]
     },
     "execution_count": 16,
     "metadata": {},
     "output_type": "execute_result"
    }
   ],
   "source": [
    "a.shape = -1, 2\n",
    "a"
   ]
  },
  {
   "cell_type": "markdown",
   "metadata": {},
   "source": [
    "Отрицательное значение -1 означает автоматическое вычисление размерности по первой оси. По второй берется значение 2. В этом случае получим размерность 5x2.\n",
    "\n",
    "То же самое можно делать и в методе reshape(): "
   ]
  },
  {
   "cell_type": "code",
   "execution_count": 35,
   "metadata": {},
   "outputs": [
    {
     "name": "stdout",
     "output_type": "stream",
     "text": [
      "[[-1]\n",
      " [ 1]\n",
      " [ 2]\n",
      " [ 3]\n",
      " [ 4]\n",
      " [ 5]\n",
      " [ 6]\n",
      " [ 7]\n",
      " [ 8]\n",
      " [ 9]]\n",
      "[[-1  1  2  3  4  5  6  7  8  9]]\n"
     ]
    }
   ],
   "source": [
    "\n",
    "print(b.reshape(-1, 1))\n",
    "\n",
    "print(b.reshape(1, -1))"
   ]
  },
  {
   "cell_type": "markdown",
   "metadata": {},
   "source": [
    "Используя отрицательный индекс, можно делать и такие преобразования: "
   ]
  },
  {
   "cell_type": "code",
   "execution_count": 38,
   "metadata": {},
   "outputs": [
    {
     "name": "stdout",
     "output_type": "stream",
     "text": [
      "[[-1  1  2  3  4]\n",
      " [ 5  6  7  8  9]]\n",
      "[[-1  1]\n",
      " [ 2  3]\n",
      " [ 4  5]\n",
      " [ 6  7]\n",
      " [ 8  9]]\n"
     ]
    }
   ],
   "source": [
    "b = b.reshape(2, -1)\n",
    "print(b)\n",
    "b = b.reshape(-1, 2)\n",
    "print(b)"
   ]
  },
  {
   "cell_type": "markdown",
   "metadata": {},
   "source": [
    "Если нам требуется многомерный массив преобразовать в обычный одномерный, то можно воспользоваться методом ravel(), который возвращает новое представление, не меняя текущего: "
   ]
  },
  {
   "cell_type": "code",
   "execution_count": 39,
   "metadata": {},
   "outputs": [
    {
     "data": {
      "text/plain": [
       "array([-1,  1,  2,  3,  4,  5,  6,  7,  8,  9])"
      ]
     },
     "execution_count": 39,
     "metadata": {},
     "output_type": "execute_result"
    }
   ],
   "source": [
    "c = b.ravel() # с ссылается на одномерное представление массива\n",
    "c"
   ]
  },
  {
   "cell_type": "markdown",
   "metadata": {},
   "source": [
    "Если же нам нужно текущий массив преобразовать в одномерный, то это можно сделать так: "
   ]
  },
  {
   "cell_type": "code",
   "execution_count": 40,
   "metadata": {},
   "outputs": [],
   "source": [
    "b.shape = -1"
   ]
  },
  {
   "cell_type": "markdown",
   "metadata": {},
   "source": [
    "Помимо свойства shape можно использовать метод resize, который выполняет подобную операцию с текущим массивом. Например: "
   ]
  },
  {
   "cell_type": "code",
   "execution_count": 41,
   "metadata": {},
   "outputs": [],
   "source": [
    "a.resize(2, 5) # массив 2x5"
   ]
  },
  {
   "cell_type": "markdown",
   "metadata": {},
   "source": [
    "Но, как мы уже говорили, вот такая строчка приведет к ошибке: "
   ]
  },
  {
   "cell_type": "code",
   "execution_count": 25,
   "metadata": {},
   "outputs": [
    {
     "ename": "ValueError",
     "evalue": "cannot resize an array that references or is referenced\nby another array in this way.\nUse the np.resize function or refcheck=False",
     "output_type": "error",
     "traceback": [
      "\u001b[0;31m---------------------------------------------------------------------------\u001b[0m",
      "\u001b[0;31mValueError\u001b[0m                                Traceback (most recent call last)",
      "\u001b[0;32m/tmp/ipykernel_4567/4058682236.py\u001b[0m in \u001b[0;36m<module>\u001b[0;34m\u001b[0m\n\u001b[0;32m----> 1\u001b[0;31m \u001b[0ma\u001b[0m\u001b[0;34m.\u001b[0m\u001b[0mresize\u001b[0m\u001b[0;34m(\u001b[0m\u001b[0;36m3\u001b[0m\u001b[0;34m,\u001b[0m \u001b[0;36m3\u001b[0m\u001b[0;34m)\u001b[0m  \u001b[0;31m# ошибка: 3x3 != 10\u001b[0m\u001b[0;34m\u001b[0m\u001b[0;34m\u001b[0m\u001b[0m\n\u001b[0m",
      "\u001b[0;31mValueError\u001b[0m: cannot resize an array that references or is referenced\nby another array in this way.\nUse the np.resize function or refcheck=False"
     ]
    }
   ],
   "source": [
    "a.resize(3, 3)  # ошибка: 3x3 != 10"
   ]
  },
  {
   "cell_type": "markdown",
   "metadata": {},
   "source": [
    "# Транспонирование матриц и векторов"
   ]
  },
  {
   "cell_type": "markdown",
   "metadata": {},
   "source": [
    "Очень часто в математических операциях требуется выполнять транспонирование матриц и векторов, то есть, заменять строки на столбцы. Например, если имеется матрица (двумерный массив): "
   ]
  },
  {
   "cell_type": "code",
   "execution_count": 42,
   "metadata": {},
   "outputs": [
    {
     "data": {
      "text/plain": [
       "array([[ 1,  2,  3],\n",
       "       [ 1,  4,  9],\n",
       "       [ 1,  8, 27]])"
      ]
     },
     "execution_count": 42,
     "metadata": {},
     "output_type": "execute_result"
    }
   ],
   "source": [
    "a = np.array([(1, 2, 3), (1, 4, 9), (1, 8, 27)])\n",
    "a"
   ]
  },
  {
   "cell_type": "markdown",
   "metadata": {},
   "source": [
    "то операция транспонирования может быть реализована так: "
   ]
  },
  {
   "cell_type": "code",
   "execution_count": 43,
   "metadata": {},
   "outputs": [
    {
     "data": {
      "text/plain": [
       "array([[ 1,  1,  1],\n",
       "       [ 2,  4,  8],\n",
       "       [ 3,  9, 27]])"
      ]
     },
     "execution_count": 43,
     "metadata": {},
     "output_type": "execute_result"
    }
   ],
   "source": [
    "b = a.T\n",
    "b"
   ]
  },
  {
   "cell_type": "markdown",
   "metadata": {},
   "source": [
    "Обратите внимание, мы здесь создаем лишь новое представление тех же самых данных массива a. И изменение элементов в массиве b: "
   ]
  },
  {
   "cell_type": "code",
   "execution_count": 45,
   "metadata": {},
   "outputs": [
    {
     "name": "stdout",
     "output_type": "stream",
     "text": [
      "[[ 1  2  3]\n",
      " [10  4  9]\n",
      " [ 1  8 27]]\n",
      "[[ 1 10  1]\n",
      " [ 2  4  8]\n",
      " [ 3  9 27]]\n"
     ]
    }
   ],
   "source": [
    "b[0, 1] = 10\n",
    "print(a)\n",
    "print(b)"
   ]
  },
  {
   "cell_type": "markdown",
   "metadata": {},
   "source": [
    "приведет к соответствующему изменению значения элемента и массива a. Это следует помнить, используя операцию транспонирования.\n",
    "\n",
    "Транспонирование векторов работает несколько иначе. Предположим, имеется одномерный массив: "
   ]
  },
  {
   "cell_type": "code",
   "execution_count": 46,
   "metadata": {},
   "outputs": [
    {
     "data": {
      "text/plain": [
       "array([1, 2, 3, 4, 5, 6, 7, 8, 9])"
      ]
     },
     "execution_count": 46,
     "metadata": {},
     "output_type": "execute_result"
    }
   ],
   "source": [
    "x = np.arange(1, 10)\n",
    "x"
   ]
  },
  {
   "cell_type": "markdown",
   "metadata": {},
   "source": [
    "и мы выполняем операцию транспонирования: "
   ]
  },
  {
   "cell_type": "code",
   "execution_count": 47,
   "metadata": {},
   "outputs": [
    {
     "data": {
      "text/plain": [
       "array([1, 2, 3, 4, 5, 6, 7, 8, 9])"
      ]
     },
     "execution_count": 47,
     "metadata": {},
     "output_type": "execute_result"
    }
   ],
   "source": [
    "x.T\n",
    "x"
   ]
  },
  {
   "cell_type": "markdown",
   "metadata": {},
   "source": [
    "В результате ничего не изменилось: вектор как был строкой, так строкой и остался. Почему? Дело в том, что массив x имеет только одну размерность, поэтому здесь нет понятия строк и столбцов. Соответственно, операция транспонирования ни к чему не приводит. Чтобы получить ожидаемый эффект, нужно добавить к массиву еще одну ось, например, так: "
   ]
  },
  {
   "cell_type": "code",
   "execution_count": 48,
   "metadata": {},
   "outputs": [],
   "source": [
    "x.shape = 1, -1"
   ]
  },
  {
   "cell_type": "markdown",
   "metadata": {},
   "source": [
    "И теперь, при транспонировании получим вектор-столбец: "
   ]
  },
  {
   "cell_type": "code",
   "execution_count": 49,
   "metadata": {},
   "outputs": [
    {
     "name": "stdout",
     "output_type": "stream",
     "text": [
      "[[1]\n",
      " [2]\n",
      " [3]\n",
      " [4]\n",
      " [5]\n",
      " [6]\n",
      " [7]\n",
      " [8]\n",
      " [9]]\n",
      "[[1 2 3 4 5 6 7 8 9]]\n"
     ]
    }
   ],
   "source": [
    "print(x.T)\n",
    "print(x)"
   ]
  },
  {
   "cell_type": "markdown",
   "metadata": {},
   "source": [
    "# Операции с индексами"
   ]
  },
  {
   "cell_type": "markdown",
   "metadata": {},
   "source": [
    "Оперативная память компьютера линейна, и поэтому даже многомерные массивы, на самом деле являются некоторыми линейными структурами, над которыми существуют система индексов, говорящих как именно читать этот линейный блок. Проведение операций над индексами в большистве случаев эффективно и поэтому операции смены размерности массива или транспонирования выполняются быстро"
   ]
  },
  {
   "cell_type": "code",
   "execution_count": 50,
   "metadata": {},
   "outputs": [
    {
     "name": "stdout",
     "output_type": "stream",
     "text": [
      "[[1 3]\n",
      " [2 4]]\n"
     ]
    }
   ],
   "source": [
    "import numpy as np\n",
    "\n",
    "a = np.asarray([[1,2], [3,4]])\n",
    "b = a.T # Транспонированый массив\n",
    "print(b)"
   ]
  },
  {
   "cell_type": "code",
   "execution_count": 53,
   "metadata": {},
   "outputs": [
    {
     "name": "stdout",
     "output_type": "stream",
     "text": [
      "[[10  3]\n",
      " [ 2  4]]\n"
     ]
    }
   ],
   "source": [
    "b[0,0] = 10\n",
    "print(b)"
   ]
  },
  {
   "cell_type": "code",
   "execution_count": 54,
   "metadata": {},
   "outputs": [
    {
     "name": "stdout",
     "output_type": "stream",
     "text": [
      "[[10  2]\n",
      " [ 3  4]]\n"
     ]
    }
   ],
   "source": [
    "print(a)"
   ]
  },
  {
   "cell_type": "code",
   "execution_count": 4,
   "metadata": {},
   "outputs": [
    {
     "data": {
      "text/plain": [
       "array([[11,  3],\n",
       "       [ 2,  4]])"
      ]
     },
     "execution_count": 4,
     "metadata": {},
     "output_type": "execute_result"
    }
   ],
   "source": [
    "b[0][0] = 11\n",
    "b"
   ]
  },
  {
   "cell_type": "markdown",
   "metadata": {},
   "source": [
    "Как мы видим при изменени переменной b изменилась переменная a. Это произошло потому, что обе эти переменные использубют один и тот же кусок памяти, но по разному."
   ]
  },
  {
   "cell_type": "markdown",
   "metadata": {},
   "source": [
    "# Добавление и удаление осей"
   ]
  },
  {
   "cell_type": "markdown",
   "metadata": {},
   "source": [
    "Часто при работе с массивами NumPy требуется добавлять новые оси измерений и удалять существующие. Есть множество способов выполнять эти операции, но мы рассмотрим два наиболее распространенных с помощью функций:\n",
    "\n",
    "    np.expand_dims(a, axis) – добавление новой оси;\n",
    "    np.squeeze(a[, axis]) – удаление оси (без удаления элементов). \n",
    "\n",
    "Давайте предположим, что у нас имеется некий многомерный массив: "
   ]
  },
  {
   "cell_type": "code",
   "execution_count": 55,
   "metadata": {},
   "outputs": [],
   "source": [
    "x_test = np.arange(32).reshape(8, 2, 2) # массив 8x2x2"
   ]
  },
  {
   "cell_type": "markdown",
   "metadata": {},
   "source": [
    "И нам потребовалось добавить еще одно измерение (ось), причем, в самое начало, то есть, ось axis0. Сейчас на этой оси 8 элементов – матриц 2x2, но мы хотим сделать четырехмерный массив, сохранив остальные три оси и их данные без изменений. Как раз это достаточно просто сделать с помощью функции expand_dims, следующим образом: "
   ]
  },
  {
   "cell_type": "code",
   "execution_count": 57,
   "metadata": {},
   "outputs": [
    {
     "data": {
      "text/plain": [
       "(1, 8, 2, 2)"
      ]
     },
     "execution_count": 57,
     "metadata": {},
     "output_type": "execute_result"
    }
   ],
   "source": [
    "x_test4 = np.expand_dims(x_test, axis=0)\n",
    "x_test4.shape"
   ]
  },
  {
   "cell_type": "markdown",
   "metadata": {},
   "source": [
    "Обращаясь к свойству shape: "
   ]
  },
  {
   "cell_type": "markdown",
   "metadata": {},
   "source": [
    "x_test4.shape"
   ]
  },
  {
   "cell_type": "markdown",
   "metadata": {},
   "source": [
    "Видим, что массив стал четырехмерным и первая добавленная ось axis0 содержит один элемент – трехмерный массив 8x2x2. При необходимости, мы всегда можем добавить новый элемент на эту ось: "
   ]
  },
  {
   "cell_type": "code",
   "execution_count": 58,
   "metadata": {},
   "outputs": [
    {
     "data": {
      "text/plain": [
       "array([[[[ 0,  1],\n",
       "         [ 2,  3]],\n",
       "\n",
       "        [[ 4,  5],\n",
       "         [ 6,  7]],\n",
       "\n",
       "        [[ 8,  9],\n",
       "         [10, 11]],\n",
       "\n",
       "        [[12, 13],\n",
       "         [14, 15]],\n",
       "\n",
       "        [[16, 17],\n",
       "         [18, 19]],\n",
       "\n",
       "        [[20, 21],\n",
       "         [22, 23]],\n",
       "\n",
       "        [[24, 25],\n",
       "         [26, 27]],\n",
       "\n",
       "        [[28, 29],\n",
       "         [30, 31]]],\n",
       "\n",
       "\n",
       "       [[[ 0,  1],\n",
       "         [ 2,  3]],\n",
       "\n",
       "        [[ 4,  5],\n",
       "         [ 6,  7]],\n",
       "\n",
       "        [[ 8,  9],\n",
       "         [10, 11]],\n",
       "\n",
       "        [[12, 13],\n",
       "         [14, 15]],\n",
       "\n",
       "        [[16, 17],\n",
       "         [18, 19]],\n",
       "\n",
       "        [[20, 21],\n",
       "         [22, 23]],\n",
       "\n",
       "        [[24, 25],\n",
       "         [26, 27]],\n",
       "\n",
       "        [[28, 29],\n",
       "         [30, 31]]]])"
      ]
     },
     "execution_count": 58,
     "metadata": {},
     "output_type": "execute_result"
    }
   ],
   "source": [
    "a = np.append(x_test4, x_test4, axis=0) # размерность (2, 8, 2, 2)\n",
    "a"
   ]
  },
  {
   "cell_type": "markdown",
   "metadata": {},
   "source": [
    "или удалить ненужные элементы: "
   ]
  },
  {
   "cell_type": "code",
   "execution_count": 59,
   "metadata": {},
   "outputs": [
    {
     "data": {
      "text/plain": [
       "array([[[[ 0,  1],\n",
       "         [ 2,  3]],\n",
       "\n",
       "        [[ 4,  5],\n",
       "         [ 6,  7]],\n",
       "\n",
       "        [[ 8,  9],\n",
       "         [10, 11]],\n",
       "\n",
       "        [[12, 13],\n",
       "         [14, 15]],\n",
       "\n",
       "        [[16, 17],\n",
       "         [18, 19]],\n",
       "\n",
       "        [[20, 21],\n",
       "         [22, 23]],\n",
       "\n",
       "        [[24, 25],\n",
       "         [26, 27]],\n",
       "\n",
       "        [[28, 29],\n",
       "         [30, 31]]]])"
      ]
     },
     "execution_count": 59,
     "metadata": {},
     "output_type": "execute_result"
    }
   ],
   "source": [
    "b = np.delete(a, 0, axis=0) # размерность (1, 8, 2, 2)\n",
    "b"
   ]
  },
  {
   "cell_type": "markdown",
   "metadata": {},
   "source": [
    "Здесь второй параметр 0 – индекс удаляемого элемента на оси axis0.\n",
    "\n",
    "Если нам нужно добавить последнюю ось в массиве, то для этого можно записать такую команду: "
   ]
  },
  {
   "cell_type": "code",
   "execution_count": 61,
   "metadata": {},
   "outputs": [
    {
     "data": {
      "text/plain": [
       "array([[[[[ 0],\n",
       "          [ 1]],\n",
       "\n",
       "         [[ 2],\n",
       "          [ 3]]],\n",
       "\n",
       "\n",
       "        [[[ 4],\n",
       "          [ 5]],\n",
       "\n",
       "         [[ 6],\n",
       "          [ 7]]],\n",
       "\n",
       "\n",
       "        [[[ 8],\n",
       "          [ 9]],\n",
       "\n",
       "         [[10],\n",
       "          [11]]],\n",
       "\n",
       "\n",
       "        [[[12],\n",
       "          [13]],\n",
       "\n",
       "         [[14],\n",
       "          [15]]],\n",
       "\n",
       "\n",
       "        [[[16],\n",
       "          [17]],\n",
       "\n",
       "         [[18],\n",
       "          [19]]],\n",
       "\n",
       "\n",
       "        [[[20],\n",
       "          [21]],\n",
       "\n",
       "         [[22],\n",
       "          [23]]],\n",
       "\n",
       "\n",
       "        [[[24],\n",
       "          [25]],\n",
       "\n",
       "         [[26],\n",
       "          [27]]],\n",
       "\n",
       "\n",
       "        [[[28],\n",
       "          [29]],\n",
       "\n",
       "         [[30],\n",
       "          [31]]]]])"
      ]
     },
     "execution_count": 61,
     "metadata": {},
     "output_type": "execute_result"
    }
   ],
   "source": [
    "b = np.expand_dims(x_test4, axis=-1) # размерность (1, 8, 2, 2, 1)\n",
    "b"
   ]
  },
  {
   "cell_type": "markdown",
   "metadata": {},
   "source": [
    "Отрицательный индекс -1 – это следующая с конца ось. Если указать индекс -2, то добавится предпоследняя ось и так далее. Отрицательные индексы очень удобно использовать при работе с массивами произвольных размерностей.\n",
    "\n",
    "Следующая функция squeeze позволяет удалить все оси с одним элементом. Например, строчка: "
   ]
  },
  {
   "cell_type": "code",
   "execution_count": 62,
   "metadata": {},
   "outputs": [
    {
     "data": {
      "text/plain": [
       "array([[[ 0,  1],\n",
       "        [ 2,  3]],\n",
       "\n",
       "       [[ 4,  5],\n",
       "        [ 6,  7]],\n",
       "\n",
       "       [[ 8,  9],\n",
       "        [10, 11]],\n",
       "\n",
       "       [[12, 13],\n",
       "        [14, 15]],\n",
       "\n",
       "       [[16, 17],\n",
       "        [18, 19]],\n",
       "\n",
       "       [[20, 21],\n",
       "        [22, 23]],\n",
       "\n",
       "       [[24, 25],\n",
       "        [26, 27]],\n",
       "\n",
       "       [[28, 29],\n",
       "        [30, 31]]])"
      ]
     },
     "execution_count": 62,
     "metadata": {},
     "output_type": "execute_result"
    }
   ],
   "source": [
    "c = np.squeeze(b) # размерность (8, 2, 2)\n",
    "c"
   ]
  },
  {
   "cell_type": "markdown",
   "metadata": {},
   "source": [
    "превращает массив размерностью (1, 8, 2, 2) в массив размерностью (8, 2, 2). При необходимости, дополнительно мы можем самостоятельно указать оси, которые следует удалять, например, так: "
   ]
  },
  {
   "cell_type": "code",
   "execution_count": 63,
   "metadata": {},
   "outputs": [],
   "source": [
    "c = np.squeeze(b, axis=0) # удалит только ось axis0, не затронув другие"
   ]
  },
  {
   "cell_type": "markdown",
   "metadata": {},
   "source": [
    "Но, если указать ось с числом элементов больше 1, то возникнет ошибка: "
   ]
  },
  {
   "cell_type": "code",
   "execution_count": 64,
   "metadata": {},
   "outputs": [
    {
     "ename": "ValueError",
     "evalue": "cannot select an axis to squeeze out which has size not equal to one",
     "output_type": "error",
     "traceback": [
      "\u001b[0;31m---------------------------------------------------------------------------\u001b[0m",
      "\u001b[0;31mValueError\u001b[0m                                Traceback (most recent call last)",
      "\u001b[0;32m/tmp/ipykernel_4567/129786531.py\u001b[0m in \u001b[0;36m<module>\u001b[0;34m\u001b[0m\n\u001b[0;32m----> 1\u001b[0;31m \u001b[0mc\u001b[0m \u001b[0;34m=\u001b[0m \u001b[0mnp\u001b[0m\u001b[0;34m.\u001b[0m\u001b[0msqueeze\u001b[0m\u001b[0;34m(\u001b[0m\u001b[0mb\u001b[0m\u001b[0;34m,\u001b[0m \u001b[0maxis\u001b[0m\u001b[0;34m=\u001b[0m\u001b[0;36m1\u001b[0m\u001b[0;34m)\u001b[0m \u001b[0;31m# ошибка, на оси axis1 8 элементов\u001b[0m\u001b[0;34m\u001b[0m\u001b[0;34m\u001b[0m\u001b[0m\n\u001b[0m",
      "\u001b[0;32m<__array_function__ internals>\u001b[0m in \u001b[0;36msqueeze\u001b[0;34m(*args, **kwargs)\u001b[0m\n",
      "\u001b[0;32m/opt/rh/rh-python38/root/usr/local/lib64/python3.8/site-packages/numpy/core/fromnumeric.py\u001b[0m in \u001b[0;36msqueeze\u001b[0;34m(a, axis)\u001b[0m\n\u001b[1;32m   1506\u001b[0m         \u001b[0;32mreturn\u001b[0m \u001b[0msqueeze\u001b[0m\u001b[0;34m(\u001b[0m\u001b[0;34m)\u001b[0m\u001b[0;34m\u001b[0m\u001b[0;34m\u001b[0m\u001b[0m\n\u001b[1;32m   1507\u001b[0m     \u001b[0;32melse\u001b[0m\u001b[0;34m:\u001b[0m\u001b[0;34m\u001b[0m\u001b[0;34m\u001b[0m\u001b[0m\n\u001b[0;32m-> 1508\u001b[0;31m         \u001b[0;32mreturn\u001b[0m \u001b[0msqueeze\u001b[0m\u001b[0;34m(\u001b[0m\u001b[0maxis\u001b[0m\u001b[0;34m=\u001b[0m\u001b[0maxis\u001b[0m\u001b[0;34m)\u001b[0m\u001b[0;34m\u001b[0m\u001b[0;34m\u001b[0m\u001b[0m\n\u001b[0m\u001b[1;32m   1509\u001b[0m \u001b[0;34m\u001b[0m\u001b[0m\n\u001b[1;32m   1510\u001b[0m \u001b[0;34m\u001b[0m\u001b[0m\n",
      "\u001b[0;31mValueError\u001b[0m: cannot select an axis to squeeze out which has size not equal to one"
     ]
    }
   ],
   "source": [
    "c = np.squeeze(b, axis=1) # ошибка, на оси axis1 8 элементов"
   ]
  },
  {
   "cell_type": "markdown",
   "metadata": {},
   "source": [
    "В NumPy добавлять новые оси иногда удобнее с помощью специального объекта np.newaxis. Например, пусть у нас есть одномерный массив: "
   ]
  },
  {
   "cell_type": "code",
   "execution_count": 65,
   "metadata": {},
   "outputs": [
    {
     "data": {
      "text/plain": [
       "array([1, 2, 3, 4, 5, 6, 7, 8, 9])"
      ]
     },
     "execution_count": 65,
     "metadata": {},
     "output_type": "execute_result"
    }
   ],
   "source": [
    "a = np.arange(1, 10)\n",
    "a"
   ]
  },
  {
   "cell_type": "markdown",
   "metadata": {},
   "source": [
    "У него одна ось – одно измерение. Добавим еще одну ось, допустим, в начало. С помощью объекта np.newaxis это можно сделать так: "
   ]
  },
  {
   "cell_type": "code",
   "execution_count": 69,
   "metadata": {},
   "outputs": [
    {
     "name": "stdout",
     "output_type": "stream",
     "text": [
      "[[1 2 3 4 5 6 7 8 9]]\n"
     ]
    },
    {
     "data": {
      "text/plain": [
       "(1, 9)"
      ]
     },
     "execution_count": 69,
     "metadata": {},
     "output_type": "execute_result"
    }
   ],
   "source": [
    "b = a[np.newaxis, :] # добавление оси axis0\n",
    "print(b)\n",
    "b.shape # (1, 9)"
   ]
  },
  {
   "cell_type": "markdown",
   "metadata": {},
   "source": [
    "Или, можно прописать сразу две оси: "
   ]
  },
  {
   "cell_type": "code",
   "execution_count": 67,
   "metadata": {},
   "outputs": [
    {
     "name": "stdout",
     "output_type": "stream",
     "text": [
      "[[[1]\n",
      "  [2]\n",
      "  [3]\n",
      "  [4]\n",
      "  [5]\n",
      "  [6]\n",
      "  [7]\n",
      "  [8]\n",
      "  [9]]]\n"
     ]
    },
    {
     "data": {
      "text/plain": [
       "(1, 9, 1)"
      ]
     },
     "execution_count": 67,
     "metadata": {},
     "output_type": "execute_result"
    }
   ],
   "source": [
    "c = a[np.newaxis, :, np.newaxis]\n",
    "print(c)\n",
    "c.shape # (1, 9, 1)"
   ]
  },
  {
   "cell_type": "markdown",
   "metadata": {},
   "source": [
    "# Базовые математические операции над массивами"
   ]
  },
  {
   "cell_type": "markdown",
   "metadata": {},
   "source": [
    "Предположим, имеется обычный список и массив, созданный на его основе:"
   ]
  },
  {
   "cell_type": "code",
   "execution_count": 79,
   "metadata": {},
   "outputs": [],
   "source": [
    "lst = [1, 2, 3]\n",
    "a = np.array([1, 2, 3])"
   ]
  },
  {
   "cell_type": "markdown",
   "metadata": {},
   "source": [
    "Сейчас вы увидите принципиальную разницу между двумя этими объектами. Умножим их на число 2: "
   ]
  },
  {
   "cell_type": "code",
   "execution_count": 82,
   "metadata": {},
   "outputs": [
    {
     "name": "stdout",
     "output_type": "stream",
     "text": [
      "[1, 2, 3, 1, 2, 3]\n"
     ]
    },
    {
     "data": {
      "text/plain": [
       "array([2, 4, 6])"
      ]
     },
     "execution_count": 82,
     "metadata": {},
     "output_type": "execute_result"
    }
   ],
   "source": [
    "print(lst*2)\n",
    "a*2"
   ]
  },
  {
   "cell_type": "markdown",
   "metadata": {},
   "source": [
    "Видите, при умножении списка языка Python, он дублируется дважды, а при умножении на NumPy массив – каждый его элемент умножается математически на число 2. Если бы мы захотели то же самое реализовать непосредственно на Python, оперируя списками, то пришлось бы делать что-то вроде:"
   ]
  },
  {
   "cell_type": "code",
   "execution_count": 83,
   "metadata": {},
   "outputs": [
    {
     "data": {
      "text/plain": [
       "[2, 4, 6]"
      ]
     },
     "execution_count": 83,
     "metadata": {},
     "output_type": "execute_result"
    }
   ],
   "source": [
    "[x*2 for x in lst]"
   ]
  },
  {
   "cell_type": "markdown",
   "metadata": {},
   "source": [
    "Но выполнялась бы такая конструкция дольше, чем в случае с массивом NumPy. Именно благодаря удобству и скорости библиотека NumPy и приобрела свою популярность."
   ]
  },
  {
   "cell_type": "markdown",
   "metadata": {},
   "source": [
    "Пусть у нас задан тот же одномерный массив: "
   ]
  },
  {
   "cell_type": "code",
   "execution_count": 84,
   "metadata": {},
   "outputs": [],
   "source": [
    "a = np.array([1, 2, 3])"
   ]
  },
  {
   "cell_type": "markdown",
   "metadata": {},
   "source": [
    "Все указанные в таблице операции выполняются следующим образом: "
   ]
  },
  {
   "cell_type": "code",
   "execution_count": 85,
   "metadata": {},
   "outputs": [
    {
     "name": "stdout",
     "output_type": "stream",
     "text": [
      "[-1 -2 -3]\n",
      "[3 4 5]\n",
      "[3 4 5]\n",
      "[-2 -1  0]\n",
      "[ 5 10 15]\n",
      "[0.2 0.4 0.6]\n",
      "[0 1 1]\n",
      "[ 1  8 27]\n",
      "[1 0 1]\n"
     ]
    }
   ],
   "source": [
    "print(-a) # унарный минус\n",
    "print(a + 2) # сложение с числом\n",
    "print(2 + a)  # так тоже можно записывать\n",
    "print(a - 3) # вычитание с числом\n",
    "print(a * 5) # умножение на число\n",
    "print(a / 5)  # деление на число\n",
    "print(a // 2)  # целочисленное деление\n",
    "print(a ** 3)  # возведение в степень 3\n",
    "print(a % 2)  # вычисление по модулю 2"
   ]
  },
  {
   "cell_type": "markdown",
   "metadata": {},
   "source": [
    "Приоритеты этих операций такие же, что и при обычных математических вычислениях. А на выходе мы получаем новый массив с соответствующими значениями.\n",
    "\n",
    "Давайте теперь добавим еще один массив: "
   ]
  },
  {
   "cell_type": "code",
   "execution_count": 86,
   "metadata": {},
   "outputs": [],
   "source": [
    "b = np.array([3, 4, 5])"
   ]
  },
  {
   "cell_type": "markdown",
   "metadata": {},
   "source": [
    "и посмотрим на эти же операции, но с участием двух массивов:"
   ]
  },
  {
   "cell_type": "code",
   "execution_count": 87,
   "metadata": {},
   "outputs": [
    {
     "name": "stdout",
     "output_type": "stream",
     "text": [
      "[-2 -2 -2]\n",
      "[4 6 8]\n",
      "[ 3  8 15]\n",
      "[3.         2.         1.66666667]\n",
      "[3 2 1]\n",
      "[  3  16 125]\n",
      "[0 0 2]\n"
     ]
    }
   ],
   "source": [
    "print(a - b)\n",
    "print(b + a)\n",
    "print(a * b)\n",
    "print(b / a)\n",
    "print(b // a)\n",
    "print(b ** a)\n",
    "print(b % a)"
   ]
  },
  {
   "cell_type": "markdown",
   "metadata": {},
   "source": [
    "Везде мы видим поэлементные операции. Соответственно, чтобы они выполнялись, массивы должны быть согласованы по длине. Например, если взять массив: "
   ]
  },
  {
   "cell_type": "code",
   "execution_count": 88,
   "metadata": {},
   "outputs": [],
   "source": [
    "b = np.array([3, 4, 5, 6])"
   ]
  },
  {
   "cell_type": "markdown",
   "metadata": {},
   "source": [
    "и выполнить операцию: "
   ]
  },
  {
   "cell_type": "code",
   "execution_count": 89,
   "metadata": {},
   "outputs": [
    {
     "ename": "ValueError",
     "evalue": "operands could not be broadcast together with shapes (3,) (4,) ",
     "output_type": "error",
     "traceback": [
      "\u001b[0;31m---------------------------------------------------------------------------\u001b[0m",
      "\u001b[0;31mValueError\u001b[0m                                Traceback (most recent call last)",
      "\u001b[0;32m/tmp/ipykernel_4567/557321716.py\u001b[0m in \u001b[0;36m<module>\u001b[0;34m\u001b[0m\n\u001b[0;32m----> 1\u001b[0;31m \u001b[0ma\u001b[0m \u001b[0;34m+\u001b[0m \u001b[0mb\u001b[0m  \u001b[0;31m# ошибка: длины массивов не совпадают\u001b[0m\u001b[0;34m\u001b[0m\u001b[0;34m\u001b[0m\u001b[0m\n\u001b[0m",
      "\u001b[0;31mValueError\u001b[0m: operands could not be broadcast together with shapes (3,) (4,) "
     ]
    }
   ],
   "source": [
    "a + b  # ошибка: длины массивов не совпадают"
   ]
  },
  {
   "cell_type": "markdown",
   "metadata": {},
   "source": [
    "то возникнет ошибка из-за несовпадения длин массивов. Но вот такая операция с двумерным массивом b сработает: "
   ]
  },
  {
   "cell_type": "code",
   "execution_count": 90,
   "metadata": {},
   "outputs": [
    {
     "data": {
      "text/plain": [
       "array([[2, 4, 6],\n",
       "       [5, 7, 9]])"
      ]
     },
     "execution_count": 90,
     "metadata": {},
     "output_type": "execute_result"
    }
   ],
   "source": [
    "b = np.arange(1, 7)\n",
    "b.resize(2, 3)\n",
    "a + b"
   ]
  },
  {
   "cell_type": "markdown",
   "metadata": {},
   "source": [
    "В этом случае массив a будет применен к каждой строке массива b. Такое поведение получило название транслирование массивов."
   ]
  },
  {
   "cell_type": "markdown",
   "metadata": {},
   "source": [
    "Все рассмотренные операции можно распространить и на многомерные массивы, главное, чтобы они были согласованы по размерам. Я приведу два небольших примера, так как думаю, общий принцип здесь понятен. Пусть у нас трехмерный и двумерный массивы: "
   ]
  },
  {
   "cell_type": "code",
   "execution_count": 91,
   "metadata": {},
   "outputs": [],
   "source": [
    "a = np.arange(1, 19)\n",
    "a.resize(3, 3, 2)\n",
    "b = np.ones((3, 2))"
   ]
  },
  {
   "cell_type": "markdown",
   "metadata": {},
   "source": [
    "С ними можно выполнять такие операции:"
   ]
  },
  {
   "cell_type": "code",
   "execution_count": 92,
   "metadata": {},
   "outputs": [
    {
     "name": "stdout",
     "output_type": "stream",
     "text": [
      "[[[ 0.  1.]\n",
      "  [ 2.  3.]\n",
      "  [ 4.  5.]]\n",
      "\n",
      " [[ 6.  7.]\n",
      "  [ 8.  9.]\n",
      "  [10. 11.]]\n",
      "\n",
      " [[12. 13.]\n",
      "  [14. 15.]\n",
      "  [16. 17.]]]\n",
      "[[[ 10  20]\n",
      "  [ 30  40]\n",
      "  [ 50  60]]\n",
      "\n",
      " [[ 70  80]\n",
      "  [ 90 100]\n",
      "  [110 120]]\n",
      "\n",
      " [[130 140]\n",
      "  [150 160]\n",
      "  [170 180]]]\n",
      "[[[ 1.  2.]\n",
      "  [ 3.  4.]\n",
      "  [ 5.  6.]]\n",
      "\n",
      " [[ 7.  8.]\n",
      "  [ 9. 10.]\n",
      "  [11. 12.]]\n",
      "\n",
      " [[13. 14.]\n",
      "  [15. 16.]\n",
      "  [17. 18.]]]\n"
     ]
    }
   ],
   "source": [
    "print(a - b)\n",
    "print(a * 10)\n",
    "print(a // b)"
   ]
  },
  {
   "cell_type": "markdown",
   "metadata": {},
   "source": [
    "Если нам нужно произвести какие-либо математические операции с массивом и изменения сохранить в нем же, то удобно использовать сокращенные записи."
   ]
  },
  {
   "cell_type": "code",
   "execution_count": 95,
   "metadata": {},
   "outputs": [
    {
     "name": "stdout",
     "output_type": "stream",
     "text": [
      "[ 6  7 11 13]\n",
      "[ 6.  7. 11. 13.]\n"
     ]
    }
   ],
   "source": [
    "a = np.array([1, 2, 6, 8])\n",
    "a += 5\n",
    "print(a)\n",
    "b = np.ones(4)\n",
    "b *= a\n",
    "print(b)"
   ]
  },
  {
   "cell_type": "markdown",
   "metadata": {},
   "source": [
    "# Элементы линейной алгебры"
   ]
  },
  {
   "cell_type": "markdown",
   "metadata": {},
   "source": [
    "**Упражнение 1**\n",
    "\n",
    "Создайте два вектора.\n",
    "\n",
    "Найдите в документации numpy функции **dot** и **inner** вычислите скалярное произведение векторов."
   ]
  },
  {
   "cell_type": "code",
   "execution_count": 135,
   "metadata": {},
   "outputs": [
    {
     "name": "stdout",
     "output_type": "stream",
     "text": [
      "1 2 3\n",
      "1 2 3\n",
      "14.0 14.0\n"
     ]
    }
   ],
   "source": [
    "import numpy as np\n",
    "\n",
    "a = np.array([float(i) for i in input().split()])\n",
    "b = np.array([float(i) for i in input().split()])\n",
    "\n",
    "print(np.dot(a, b), np.inner(a, b))"
   ]
  },
  {
   "cell_type": "markdown",
   "metadata": {},
   "source": [
    "**Упражнение 2**\n",
    "\n",
    "Создайте две матрицы (двумерных массива).\n",
    "\n",
    "Найдите в документации numpy функции **dot** и **matmul** и с помощью этих функций вычислите произведение двух матриц.\n",
    "\n",
    "Создайте диагональную единичную матрицу и выполните умножение одной из предыдущих матриц на единичную матрицу."
   ]
  },
  {
   "cell_type": "code",
   "execution_count": 146,
   "metadata": {},
   "outputs": [
    {
     "ename": "KeyboardInterrupt",
     "evalue": "Interrupted by user",
     "output_type": "error",
     "traceback": [
      "\u001b[0;31m---------------------------------------------------------------------------\u001b[0m",
      "\u001b[0;31mKeyboardInterrupt\u001b[0m                         Traceback (most recent call last)",
      "\u001b[0;32m/tmp/ipykernel_4567/1893952951.py\u001b[0m in \u001b[0;36m<module>\u001b[0;34m\u001b[0m\n\u001b[1;32m      1\u001b[0m \u001b[0;32mimport\u001b[0m \u001b[0mnumpy\u001b[0m \u001b[0;32mas\u001b[0m \u001b[0mnp\u001b[0m\u001b[0;34m\u001b[0m\u001b[0;34m\u001b[0m\u001b[0m\n\u001b[1;32m      2\u001b[0m \u001b[0;34m\u001b[0m\u001b[0m\n\u001b[0;32m----> 3\u001b[0;31m \u001b[0mn\u001b[0m \u001b[0;34m=\u001b[0m \u001b[0mint\u001b[0m\u001b[0;34m(\u001b[0m\u001b[0minput\u001b[0m\u001b[0;34m(\u001b[0m\u001b[0;34m)\u001b[0m\u001b[0;34m)\u001b[0m\u001b[0;34m\u001b[0m\u001b[0;34m\u001b[0m\u001b[0m\n\u001b[0m\u001b[1;32m      4\u001b[0m \u001b[0;34m\u001b[0m\u001b[0m\n\u001b[1;32m      5\u001b[0m \u001b[0ma\u001b[0m \u001b[0;34m=\u001b[0m \u001b[0mnp\u001b[0m\u001b[0;34m.\u001b[0m\u001b[0marray\u001b[0m\u001b[0;34m(\u001b[0m\u001b[0;34m[\u001b[0m\u001b[0mfloat\u001b[0m\u001b[0;34m(\u001b[0m\u001b[0mi\u001b[0m\u001b[0;34m)\u001b[0m \u001b[0;32mfor\u001b[0m \u001b[0mi\u001b[0m \u001b[0;32min\u001b[0m \u001b[0minput\u001b[0m\u001b[0;34m(\u001b[0m\u001b[0;34m)\u001b[0m\u001b[0;34m.\u001b[0m\u001b[0msplit\u001b[0m\u001b[0;34m(\u001b[0m\u001b[0;34m)\u001b[0m\u001b[0;34m]\u001b[0m\u001b[0;34m)\u001b[0m\u001b[0;34m\u001b[0m\u001b[0;34m\u001b[0m\u001b[0m\n",
      "\u001b[0;32m/opt/rh/rh-python38/root/usr/local/lib/python3.8/site-packages/ipykernel/kernelbase.py\u001b[0m in \u001b[0;36mraw_input\u001b[0;34m(self, prompt)\u001b[0m\n\u001b[1;32m   1005\u001b[0m                 \u001b[0;34m\"raw_input was called, but this frontend does not support input requests.\"\u001b[0m\u001b[0;34m\u001b[0m\u001b[0;34m\u001b[0m\u001b[0m\n\u001b[1;32m   1006\u001b[0m             )\n\u001b[0;32m-> 1007\u001b[0;31m         return self._input_request(\n\u001b[0m\u001b[1;32m   1008\u001b[0m             \u001b[0mstr\u001b[0m\u001b[0;34m(\u001b[0m\u001b[0mprompt\u001b[0m\u001b[0;34m)\u001b[0m\u001b[0;34m,\u001b[0m\u001b[0;34m\u001b[0m\u001b[0;34m\u001b[0m\u001b[0m\n\u001b[1;32m   1009\u001b[0m             \u001b[0mself\u001b[0m\u001b[0;34m.\u001b[0m\u001b[0m_parent_ident\u001b[0m\u001b[0;34m[\u001b[0m\u001b[0;34m\"shell\"\u001b[0m\u001b[0;34m]\u001b[0m\u001b[0;34m,\u001b[0m\u001b[0;34m\u001b[0m\u001b[0;34m\u001b[0m\u001b[0m\n",
      "\u001b[0;32m/opt/rh/rh-python38/root/usr/local/lib/python3.8/site-packages/ipykernel/kernelbase.py\u001b[0m in \u001b[0;36m_input_request\u001b[0;34m(self, prompt, ident, parent, password)\u001b[0m\n\u001b[1;32m   1050\u001b[0m             \u001b[0;32mexcept\u001b[0m \u001b[0mKeyboardInterrupt\u001b[0m\u001b[0;34m:\u001b[0m\u001b[0;34m\u001b[0m\u001b[0;34m\u001b[0m\u001b[0m\n\u001b[1;32m   1051\u001b[0m                 \u001b[0;31m# re-raise KeyboardInterrupt, to truncate traceback\u001b[0m\u001b[0;34m\u001b[0m\u001b[0;34m\u001b[0m\u001b[0;34m\u001b[0m\u001b[0m\n\u001b[0;32m-> 1052\u001b[0;31m                 \u001b[0;32mraise\u001b[0m \u001b[0mKeyboardInterrupt\u001b[0m\u001b[0;34m(\u001b[0m\u001b[0;34m\"Interrupted by user\"\u001b[0m\u001b[0;34m)\u001b[0m \u001b[0;32mfrom\u001b[0m \u001b[0;32mNone\u001b[0m\u001b[0;34m\u001b[0m\u001b[0;34m\u001b[0m\u001b[0m\n\u001b[0m\u001b[1;32m   1053\u001b[0m             \u001b[0;32mexcept\u001b[0m \u001b[0mException\u001b[0m\u001b[0;34m:\u001b[0m\u001b[0;34m\u001b[0m\u001b[0;34m\u001b[0m\u001b[0m\n\u001b[1;32m   1054\u001b[0m                 \u001b[0mself\u001b[0m\u001b[0;34m.\u001b[0m\u001b[0mlog\u001b[0m\u001b[0;34m.\u001b[0m\u001b[0mwarning\u001b[0m\u001b[0;34m(\u001b[0m\u001b[0;34m\"Invalid Message:\"\u001b[0m\u001b[0;34m,\u001b[0m \u001b[0mexc_info\u001b[0m\u001b[0;34m=\u001b[0m\u001b[0;32mTrue\u001b[0m\u001b[0;34m)\u001b[0m\u001b[0;34m\u001b[0m\u001b[0;34m\u001b[0m\u001b[0m\n",
      "\u001b[0;31mKeyboardInterrupt\u001b[0m: Interrupted by user"
     ]
    }
   ],
   "source": [
    "import numpy as np\n",
    "\n",
    "n = int(input())\n",
    "\n",
    "a = np.array([float(i) for i in input().split()])\n",
    "b = np.array([float(i) for i in input().split()])\n",
    "\n",
    "a.shape = -1, n\n",
    "b.shape = n, -1\n",
    "\n",
    "print(np.dot(a, b), np.matmul(a, b))"
   ]
  },
  {
   "cell_type": "markdown",
   "metadata": {},
   "source": [
    "Вычисление нормы вектора:"
   ]
  },
  {
   "cell_type": "code",
   "execution_count": 139,
   "metadata": {},
   "outputs": [
    {
     "data": {
      "text/plain": [
       "10.14889156509222"
      ]
     },
     "execution_count": 139,
     "metadata": {},
     "output_type": "execute_result"
    }
   ],
   "source": [
    "b = np.array([0, 2, 3, 4, 5, 7])\n",
    "d = np.linalg.norm(b)\n",
    "d"
   ]
  },
  {
   "cell_type": "raw",
   "metadata": {},
   "source": [
    "# **Упражнение 3**\n",
    "\n",
    "Вычислите норму матрицы с помощью функции **np.linalg.norm**."
   ]
  },
  {
   "cell_type": "code",
   "execution_count": 148,
   "metadata": {},
   "outputs": [
    {
     "name": "stdout",
     "output_type": "stream",
     "text": [
      "3\n",
      "1 2 3\n",
      "1 23 3\n",
      "1 3 34\n"
     ]
    },
    {
     "data": {
      "text/plain": [
       "41.46082488325576"
      ]
     },
     "execution_count": 148,
     "metadata": {},
     "output_type": "execute_result"
    }
   ],
   "source": [
    "m = int(input())\n",
    "\n",
    "b = np.array([[int(j) for j in input().split()] for i in range(m)])\n",
    "d = np.linalg.norm(b)\n",
    "d"
   ]
  },
  {
   "cell_type": "markdown",
   "metadata": {},
   "source": [
    "**Упражнение 4**\n",
    "\n",
    "Вычислите косинус угла между векторами: $\\normalsize cos\\alpha = \\frac{a*b}{\\|a\\|*\\|b\\|}$"
   ]
  },
  {
   "cell_type": "code",
   "execution_count": 152,
   "metadata": {},
   "outputs": [
    {
     "name": "stdout",
     "output_type": "stream",
     "text": [
      "1\n",
      "1\n",
      "1.0\n"
     ]
    }
   ],
   "source": [
    "import numpy as np\n",
    "\n",
    "a = np.array([float(i) for i in input().split()])\n",
    "b = np.array([float(i) for i in input().split()])\n",
    "\n",
    "print(np.dot(a, b) / (np.linalg.norm(a) * np.linalg.norm(b)))"
   ]
  },
  {
   "cell_type": "markdown",
   "metadata": {},
   "source": [
    "____________________________________________________________________________________________________________________\n",
    "Вычисление определителя матрицы:"
   ]
  },
  {
   "cell_type": "code",
   "execution_count": 161,
   "metadata": {},
   "outputs": [
    {
     "name": "stdout",
     "output_type": "stream",
     "text": [
      "[[ 1  2  3]\n",
      " [10  4 -1]\n",
      " [ 8  3  1]]\n",
      "-35.00000000000001\n"
     ]
    }
   ],
   "source": [
    "A = np.matrix('-4 -1 2; 10 4 -1; 8 3 1') # еще один способ для создания матрицы\n",
    "A[0] = [1, 2, 3]\n",
    "print(A)\n",
    "d = np.linalg.det(A)\n",
    "print(d)"
   ]
  },
  {
   "cell_type": "markdown",
   "metadata": {},
   "source": [
    "**Упражнение 5**\n",
    "\n",
    "Транспонируйте матрицу, вычислите определитель. Отличается ли определитель транспонированной матрицы от определителя исходной матрицы?\n",
    "\n",
    "Замените одну из строк матрицы на строку из нулей, вычислите определитель матрицы.\n",
    "\n",
    "Создайте матрицу, у которой две строки переставлены местами по сравнению с исходной матрицей, вычислите определитель новой матрицы.\n",
    "\n",
    "Создайте матрицу с двумя одинаковыми строками, вычислите ее определитель.\n",
    "\n",
    "Умножьте одну из строк исходной матрицы на число, вычислите определитель.\n",
    "\n",
    "Прибавьте к элементам одной строки прибавить элементы другой строки, умноженные на одно и тоже число, вычтслите определитель."
   ]
  },
  {
   "cell_type": "code",
   "execution_count": null,
   "metadata": {},
   "outputs": [],
   "source": [
    "m = int(input())\n",
    "\n",
    "#c = np.array([[int(j) for j in input().split()] for i in range(m)])\n",
    "#c[0] = 0\n",
    "\n",
    "a = np.array([[int(j) for j in input().split()] for i in range(m)])\n",
    "b = a.T\n",
    "print(a)\n",
    "print(b)\n",
    "\n",
    "print(np.linalg.det(a), np.linalg.det(b))\n",
    "\n",
    "a[[1, 0]] = a[[0, 1]]\n",
    "print(np.linalg.det(a))\n",
    "\n",
    "x = int(input())\n",
    "a[0] *= x\n",
    "print(np.linalg.det(a))\n",
    "\n",
    "y = int(input())\n",
    "a[0] += y * a[1]\n",
    "print(np.linalg.det(a))\n",
    "\n",
    "a[1] = a[0]\n",
    "print(np.linalg.det(a))\n",
    "\n",
    "a[0] = 0\n",
    "print(np.linalg.det(a))"
   ]
  },
  {
   "cell_type": "markdown",
   "metadata": {},
   "source": [
    "# Построение графиков в matplotlib"
   ]
  },
  {
   "cell_type": "markdown",
   "metadata": {},
   "source": [
    "Построение графика по точкам:"
   ]
  },
  {
   "cell_type": "code",
   "execution_count": 109,
   "metadata": {},
   "outputs": [
    {
     "data": {
      "image/png": "[encoded data removed]",
      "text/plain": [
       "<Figure size 432x288 with 1 Axes>"
      ]
     },
     "metadata": {
      "needs_background": "light"
     },
     "output_type": "display_data"
    }
   ],
   "source": [
    "import matplotlib.pyplot as plt\n",
    "%matplotlib inline\n",
    "plt.plot([1, 2, 3, 4, 5], [1, 2, 3, 4, 5])\n",
    "plt.show()"
   ]
  },
  {
   "cell_type": "markdown",
   "metadata": {},
   "source": [
    "Для начала построим линейную зависимость, дадим нашему графику название, подпишем оси и отобразим сетку:"
   ]
  },
  {
   "cell_type": "code",
   "execution_count": 111,
   "metadata": {},
   "outputs": [
    {
     "data": {
      "text/plain": [
       "[<matplotlib.lines.Line2D at 0x7fb91caa0460>]"
      ]
     },
     "execution_count": 111,
     "metadata": {},
     "output_type": "execute_result"
    },
    {
     "data": {
      "image/png": "[encoded data removed]",
      "text/plain": [
       "<Figure size 432x288 with 1 Axes>"
      ]
     },
     "metadata": {
      "needs_background": "light"
     },
     "output_type": "display_data"
    }
   ],
   "source": [
    "import numpy as np\n",
    "%matplotlib inline\n",
    "# Независимая (x) и зависимая (y) переменные\n",
    "x = np.linspace(0, 10, 50)\n",
    "y = x\n",
    "\n",
    "# Построение графика\n",
    "plt.title(\"Линейная зависимость y = x\") # заголовок\n",
    "plt.xlabel(\"x\") # ось абсцисс\n",
    "plt.ylabel(\"y\") # ось ординат\n",
    "plt.grid()      # включение отображение сетки\n",
    "plt.plot(x, y)  # построение графика"
   ]
  },
  {
   "cell_type": "markdown",
   "metadata": {},
   "source": [
    "Изменим тип линии и ее цвет, для этого в функцию plot(), в качестве третьего параметра передадим строку, сформированную определенным образом, в нашем случае это “r–”, где “r” означает красный цвет, а “–” – тип линии – пунктирная линия."
   ]
  },
  {
   "cell_type": "code",
   "execution_count": 112,
   "metadata": {},
   "outputs": [
    {
     "data": {
      "text/plain": [
       "[<matplotlib.lines.Line2D at 0x7fb9195438e0>]"
      ]
     },
     "execution_count": 112,
     "metadata": {},
     "output_type": "execute_result"
    },
    {
     "data": {
      "image/png": "[encoded data removed]",
      "text/plain": [
       "<Figure size 432x288 with 1 Axes>"
      ]
     },
     "metadata": {
      "needs_background": "light"
     },
     "output_type": "display_data"
    }
   ],
   "source": [
    "# Построение графика\n",
    "%matplotlib inline\n",
    "plt.title(\"Линейная зависимость y = x\") # заголовок\n",
    "plt.xlabel(\"x\") # ось абсцисс\n",
    "plt.ylabel(\"y\") # ось ординат\n",
    "plt.grid()      # включение отображение сетки\n",
    "plt.plot(x, y, \"r--\")  # построение графика"
   ]
  },
  {
   "cell_type": "markdown",
   "metadata": {},
   "source": [
    "**Несколько графиков на одном поле**\n",
    "\n",
    "Построим несколько графиков на одном поле, для этого добавим квадратичную зависимость:"
   ]
  },
  {
   "cell_type": "code",
   "execution_count": 113,
   "metadata": {},
   "outputs": [
    {
     "data": {
      "text/plain": [
       "[<matplotlib.lines.Line2D at 0x7fb91985b550>,\n",
       " <matplotlib.lines.Line2D at 0x7fb91985b580>]"
      ]
     },
     "execution_count": 113,
     "metadata": {},
     "output_type": "execute_result"
    },
    {
     "data": {
      "image/png": "[encoded data removed]",
      "text/plain": [
       "<Figure size 432x288 with 1 Axes>"
      ]
     },
     "metadata": {
      "needs_background": "light"
     },
     "output_type": "display_data"
    }
   ],
   "source": [
    "# Линейная зависимость\n",
    "x = np.linspace(0, 10, 50)\n",
    "y1 = x\n",
    "# Квадратичная зависимость\n",
    "y2 = [i**2 for i in x]\n",
    "# Построение графика\n",
    "plt.title(\"Зависимости: y1 = x, y2 = x^2\") # заголовок\n",
    "plt.xlabel(\"x\")         # ось абсцисс\n",
    "plt.ylabel(\"y1, y2\")    # ось ординат\n",
    "plt.grid()              # включение отображение сетки\n",
    "plt.plot(x, y1, x, y2)  # построение графика"
   ]
  },
  {
   "cell_type": "markdown",
   "metadata": {},
   "source": [
    "В приведенном примере в функцию plot() последовательно передаются два массива для построения первого графика и два массива для построения второго, при этом, как вы можете заметить, для обоих графиков массив значений независимой переменной x один и то же."
   ]
  },
  {
   "cell_type": "markdown",
   "metadata": {},
   "source": [
    "**Несколько разделенных полей с графиками**\n",
    "\n",
    "Третья, довольно часто встречающаяся задача – это отобразить два или более различных поля, на которых будет отображено по одному или более графику.\n",
    "\n",
    "Построим уже известные нам две зависимость на разных полях."
   ]
  },
  {
   "cell_type": "code",
   "execution_count": 122,
   "metadata": {},
   "outputs": [
    {
     "data": {
      "image/png": "[encoded data removed]",
      "text/plain": [
       "<Figure size 648x648 with 2 Axes>"
      ]
     },
     "metadata": {
      "needs_background": "light"
     },
     "output_type": "display_data"
    }
   ],
   "source": [
    "# Линейная зависимость\n",
    "x = np.linspace(0, 10, 50)\n",
    "y1 = x\n",
    "# Квадратичная зависимость\n",
    "y2 = [i**2 for i in x]\n",
    "# Построение графиков\n",
    "plt.figure(figsize=(9, 9))\n",
    "plt.subplot(1, 2, 1)\n",
    "plt.plot(x, y1)               # построение графика\n",
    "plt.title(\"Зависимости: y1 = x, y2 = x^2\") # заголовок\n",
    "plt.ylabel(\"y1\", fontsize=14) # ось ординат\n",
    "plt.grid(True)                # включение отображение сетки\n",
    "plt.subplot(1, 2, 2)\n",
    "plt.plot(x, y2)               # построение графика\n",
    "plt.xlabel(\"x\", fontsize=14)  # ось абсцисс\n",
    "plt.ylabel(\"y2\", fontsize=14) # ось ординат\n",
    "plt.grid(True)                # включение отображение сетки"
   ]
  },
  {
   "cell_type": "markdown",
   "metadata": {},
   "source": [
    "Здесь мы воспользовались новыми функциями: \n",
    "\n",
    "figure() – функция для задания глобальных параметров отображения графиков. В нее, в качестве аргумента, мы передаем кортеж, определяющий размер общего поля. \n",
    "\n",
    "subplot() – функция для задания местоположения поля с графиком. Существует несколько способов задания областей для вывода через функцию subplot() мы воспользовались следующим: первый аргумент – количество строк, второй – столбцов в формируемом поле, третий – индекс (номер поля, считаем сверху вниз, слева направо).\n",
    "\n",
    "Дополнительно мы использовали параметр fontsize для функций xlabel() и ylabel(), для задания размера шрифта."
   ]
  },
  {
   "cell_type": "markdown",
   "metadata": {},
   "source": [
    "**Точечная диаграмма (scatter plot)**"
   ]
  },
  {
   "cell_type": "code",
   "execution_count": 73,
   "metadata": {},
   "outputs": [
    {
     "name": "stdout",
     "output_type": "stream",
     "text": [
      "x [0.73108725 0.72228634 0.69291407 0.90896687 0.06641762 0.03139304\n",
      " 0.09029564 0.76364098 0.66733959 0.79258782 0.7600809  0.06753877\n",
      " 0.79494769 0.70970968 0.21459004 0.84527944 0.74207245 0.39081101\n",
      " 0.89292425 0.33354047 0.2831014  0.94313163 0.90073986 0.6649236\n",
      " 0.62021074 0.95472794 0.77972795 0.55973734 0.0131248  0.72863326\n",
      " 0.3894682  0.68723359 0.16544966 0.79284677 0.24854091 0.85166654\n",
      " 0.01138585 0.74182778 0.74532788 0.2901585  0.55746891 0.2148937\n",
      " 0.68800622 0.79425536 0.66908827 0.41026697 0.96923054 0.506601\n",
      " 0.86609908 0.34995205]\n",
      "y [0.5053812  0.95841588 0.21767805 0.28695956 0.73836244 0.54884632\n",
      " 0.83422338 0.18411789 0.17800224 0.51292286 0.79430087 0.64123868\n",
      " 0.84513326 0.4064585  0.17881671 0.46377161 0.02543655 0.93717323\n",
      " 0.79624678 0.3009341  0.90175338 0.77023252 0.54432257 0.03066436\n",
      " 0.45606896 0.56129042 0.33246806 0.16437402 0.94860274 0.14638239\n",
      " 0.5608139  0.91709092 0.29830685 0.5554011  0.62546907 0.04715497\n",
      " 0.35946264 0.24153101 0.76009557 0.53438081 0.26300829 0.63027039\n",
      " 0.45066092 0.82374855 0.1850416  0.28119536 0.82874016 0.32405962\n",
      " 0.52930197 0.52046537]\n"
     ]
    },
    {
     "data": {
      "image/png": "[encoded data removed]",
      "text/plain": [
       "<Figure size 432x288 with 1 Axes>"
      ]
     },
     "metadata": {
      "needs_background": "light"
     },
     "output_type": "display_data"
    }
   ],
   "source": [
    "import numpy as np\n",
    "import matplotlib.pyplot as plt\n",
    "\n",
    "\n",
    "N = 50\n",
    "x = np.random.rand(N) # случайный вектор из 50 элементов\n",
    "print(\"x\", x)\n",
    "y = np.random.rand(N) # случайный вектор из 50 элементов\n",
    "print(\"y\", y)\n",
    "colors = np.random.rand(N) # случайный вектор из 50 элементов, чтобы задавать цвета каждой из точек\n",
    "area = (30 * np.random.rand(N))**2 # случайные площади каждой из точек\n",
    "\n",
    "plt.scatter(x, y, s=area, c=colors, alpha=0.5) # нанесение точек на диаграмму, x и y - координаты\n",
    "                                               # area - площади точек, colors - цвета точек\n",
    "                                               # alpha - значение прозрачности точек\n",
    "plt.show()"
   ]
  },
  {
   "cell_type": "markdown",
   "metadata": {},
   "source": [
    "**Пример с вычислением числа $\\pi$ с помощью метода Монте Карло и визуализация результатов**"
   ]
  },
  {
   "cell_type": "markdown",
   "metadata": {},
   "source": [
    "Переключим режим отображения графиков в notebook:"
   ]
  },
  {
   "cell_type": "code",
   "execution_count": 126,
   "metadata": {},
   "outputs": [],
   "source": [
    "%matplotlib notebook"
   ]
  },
  {
   "cell_type": "code",
   "execution_count": 127,
   "metadata": {},
   "outputs": [],
   "source": [
    "import matplotlib.pyplot as plt\n",
    "import numpy as np\n",
    "from matplotlib.axes import Axes\n",
    "from scipy.stats import norm\n",
    "\n",
    "class PiAnimation:\n",
    "    def __init__(self, ax: Axes, ax_pi: Axes, ax_gaus: Axes):\n",
    "        self.inner = 0\n",
    "        self.out = 0\n",
    "\n",
    "        self.xi, self.yi = [], []\n",
    "        self.xo, self.yo = [], []\n",
    "\n",
    "        ax.set_xlim(-1.0, 1.5)\n",
    "        ax.set_ylim(-1.0, 1.5)\n",
    "        ax.axis(\"off\")\n",
    "        ax.add_artist(plt.Circle((0.0, 0.0), 1, fill=False))\n",
    "        ax.add_artist(plt.Rectangle((-1, -1), 2, 2, fill=False))\n",
    "\n",
    "        self.line_i = ax.plot(self.xi, self.yi, \"ro\")[0]\n",
    "        self.line_o = ax.plot(self.xo, self.yo, \"bo\")[0]\n",
    "        self.text = ax.text(0.3, 1.1, \"\", fontdict={\"fontsize\": 32})\n",
    "        self.text_n = ax.text(-0.9, 1.1, \"\", fontdict={\"fontsize\": 32})\n",
    "\n",
    "        self.ax_pi = ax_pi\n",
    "        self.pi = []\n",
    "        self.pi_line = ax_pi.plot([], self.pi,\"-\")[0]\n",
    "        ax_pi.set_ylim(0, 2*np.pi)\n",
    "\n",
    "        self.ax_gaus = ax_gaus\n",
    "        self.gauss_point = np.linspace(0.5*np.pi, 1.5 * np.pi, 200)\n",
    "        self.gauss = ax_gaus.plot(self.gauss_point, np.zeros(200), \"\")[0]\n",
    "\n",
    "    def __call__(self, n):\n",
    "        x, y = 2*(np.random.random_sample(2) - 0.5)\n",
    "        if x ** 2 + y ** 2 <= 1:\n",
    "            self.inner += 1\n",
    "            self.xi.append(x)\n",
    "            self.yi.append(y)\n",
    "            self.line_i.set_data(self.xi, self.yi)\n",
    "        else:\n",
    "            self.out +=1\n",
    "            self.xo.append(x)\n",
    "            self.yo.append(y)\n",
    "            self.line_o.set_data(self.xo, self.yo)\n",
    "        N = self.inner + self.out\n",
    "        prob = self.inner/N\n",
    "        pi = 4*prob\n",
    "        self.pi.append(pi)\n",
    "        self.text.set_text(r\"$\\pi = {:.5}$\".format(pi))\n",
    "        self.text_n.set_text(\"N = {:5d}   \".format(N))\n",
    "\n",
    "        self.pi_line.set_data(range(N), self.pi)\n",
    "        self.ax_pi.relim()\n",
    "        self.ax_pi.autoscale()\n",
    "\n",
    "        mean, var = np.mean(self.pi), np.var(self.pi)\n",
    "\n",
    "        if N > 3:\n",
    "            self.gauss.set_data(self.gauss_point, norm.pdf(self.gauss_point, loc = mean, scale = var))\n",
    "            self.ax_gaus.relim()\n",
    "            self.ax_gaus.autoscale()\n",
    "        return self.line_i, self.line_o, self.text, self.text_n, self.pi_line, self.gauss"
   ]
  },
  {
   "cell_type": "code",
   "execution_count": 128,
   "metadata": {},
   "outputs": [
    {
     "data": {
      "application/javascript": [
       "/* Put everything inside the global mpl namespace */\n",
       "/* global mpl */\n",
       "window.mpl = {};\n",
       "\n",
       "mpl.get_websocket_type = function () {\n",
       "    if (typeof WebSocket !== 'undefined') {\n",
       "        return WebSocket;\n",
       "    } else if (typeof MozWebSocket !== 'undefined') {\n",
       "        return MozWebSocket;\n",
       "    } else {\n",
       "        alert(\n",
       "            'Your browser does not have WebSocket support. ' +\n",
       "                'Please try Chrome, Safari or Firefox ≥ 6. ' +\n",
       "                'Firefox 4 and 5 are also supported but you ' +\n",
       "                'have to enable WebSockets in about:config.'\n",
       "        );\n",
       "    }\n",
       "};\n",
       "\n",
       "mpl.figure = function (figure_id, websocket, ondownload, parent_element) {\n",
       "    this.id = figure_id;\n",
       "\n",
       "    this.ws = websocket;\n",
       "\n",
       "    this.supports_binary = this.ws.binaryType !== undefined;\n",
       "\n",
       "    if (!this.supports_binary) {\n",
       "        var warnings = document.getElementById('mpl-warnings');\n",
       "        if (warnings) {\n",
       "            warnings.style.display = 'block';\n",
       "            warnings.textContent =\n",
       "                'This browser does not support binary websocket messages. ' +\n",
       "                'Performance may be slow.';\n",
       "        }\n",
       "    }\n",
       "\n",
       "    this.imageObj = new Image();\n",
       "\n",
       "    this.context = undefined;\n",
       "    this.message = undefined;\n",
       "    this.canvas = undefined;\n",
       "    this.rubberband_canvas = undefined;\n",
       "    this.rubberband_context = undefined;\n",
       "    this.format_dropdown = undefined;\n",
       "\n",
       "    this.image_mode = 'full';\n",
       "\n",
       "    this.root = document.createElement('div');\n",
       "    this.root.setAttribute('style', 'display: inline-block');\n",
       "    this._root_extra_style(this.root);\n",
       "\n",
       "    parent_element.appendChild(this.root);\n",
       "\n",
       "    this._init_header(this);\n",
       "    this._init_canvas(this);\n",
       "    this._init_toolbar(this);\n",
       "\n",
       "    var fig = this;\n",
       "\n",
       "    this.waiting = false;\n",
       "\n",
       "    this.ws.onopen = function () {\n",
       "        fig.send_message('supports_binary', { value: fig.supports_binary });\n",
       "        fig.send_message('send_image_mode', {});\n",
       "        if (fig.ratio !== 1) {\n",
       "            fig.send_message('set_dpi_ratio', { dpi_ratio: fig.ratio });\n",
       "        }\n",
       "        fig.send_message('refresh', {});\n",
       "    };\n",
       "\n",
       "    this.imageObj.onload = function () {\n",
       "        if (fig.image_mode === 'full') {\n",
       "            // Full images could contain transparency (where diff images\n",
       "            // almost always do), so we need to clear the canvas so that\n",
       "            // there is no ghosting.\n",
       "            fig.context.clearRect(0, 0, fig.canvas.width, fig.canvas.height);\n",
       "        }\n",
       "        fig.context.drawImage(fig.imageObj, 0, 0);\n",
       "    };\n",
       "\n",
       "    this.imageObj.onunload = function () {\n",
       "        fig.ws.close();\n",
       "    };\n",
       "\n",
       "    this.ws.onmessage = this._make_on_message_function(this);\n",
       "\n",
       "    this.ondownload = ondownload;\n",
       "};\n",
       "\n",
       "mpl.figure.prototype._init_header = function () {\n",
       "    var titlebar = document.createElement('div');\n",
       "    titlebar.classList =\n",
       "        'ui-dialog-titlebar ui-widget-header ui-corner-all ui-helper-clearfix';\n",
       "    var titletext = document.createElement('div');\n",
       "    titletext.classList = 'ui-dialog-title';\n",
       "    titletext.setAttribute(\n",
       "        'style',\n",
       "        'width: 100%; text-align: center; padding: 3px;'\n",
       "    );\n",
       "    titlebar.appendChild(titletext);\n",
       "    this.root.appendChild(titlebar);\n",
       "    this.header = titletext;\n",
       "};\n",
       "\n",
       "mpl.figure.prototype._canvas_extra_style = function (_canvas_div) {};\n",
       "\n",
       "mpl.figure.prototype._root_extra_style = function (_canvas_div) {};\n",
       "\n",
       "mpl.figure.prototype._init_canvas = function () {\n",
       "    var fig = this;\n",
       "\n",
       "    var canvas_div = (this.canvas_div = document.createElement('div'));\n",
       "    canvas_div.setAttribute(\n",
       "        'style',\n",
       "        'border: 1px solid #ddd;' +\n",
       "            'box-sizing: content-box;' +\n",
       "            'clear: both;' +\n",
       "            'min-height: 1px;' +\n",
       "            'min-width: 1px;' +\n",
       "            'outline: 0;' +\n",
       "            'overflow: hidden;' +\n",
       "            'position: relative;' +\n",
       "            'resize: both;'\n",
       "    );\n",
       "\n",
       "    function on_keyboard_event_closure(name) {\n",
       "        return function (event) {\n",
       "            return fig.key_event(event, name);\n",
       "        };\n",
       "    }\n",
       "\n",
       "    canvas_div.addEventListener(\n",
       "        'keydown',\n",
       "        on_keyboard_event_closure('key_press')\n",
       "    );\n",
       "    canvas_div.addEventListener(\n",
       "        'keyup',\n",
       "        on_keyboard_event_closure('key_release')\n",
       "    );\n",
       "\n",
       "    this._canvas_extra_style(canvas_div);\n",
       "    this.root.appendChild(canvas_div);\n",
       "\n",
       "    var canvas = (this.canvas = document.createElement('canvas'));\n",
       "    canvas.classList.add('mpl-canvas');\n",
       "    canvas.setAttribute('style', 'box-sizing: content-box;');\n",
       "\n",
       "    this.context = canvas.getContext('2d');\n",
       "\n",
       "    var backingStore =\n",
       "        this.context.backingStorePixelRatio ||\n",
       "        this.context.webkitBackingStorePixelRatio ||\n",
       "        this.context.mozBackingStorePixelRatio ||\n",
       "        this.context.msBackingStorePixelRatio ||\n",
       "        this.context.oBackingStorePixelRatio ||\n",
       "        this.context.backingStorePixelRatio ||\n",
       "        1;\n",
       "\n",
       "    this.ratio = (window.devicePixelRatio || 1) / backingStore;\n",
       "\n",
       "    var rubberband_canvas = (this.rubberband_canvas = document.createElement(\n",
       "        'canvas'\n",
       "    ));\n",
       "    rubberband_canvas.setAttribute(\n",
       "        'style',\n",
       "        'box-sizing: content-box; position: absolute; left: 0; top: 0; z-index: 1;'\n",
       "    );\n",
       "\n",
       "    // Apply a ponyfill if ResizeObserver is not implemented by browser.\n",
       "    if (this.ResizeObserver === undefined) {\n",
       "        if (window.ResizeObserver !== undefined) {\n",
       "            this.ResizeObserver = window.ResizeObserver;\n",
       "        } else {\n",
       "            var obs = _JSXTOOLS_RESIZE_OBSERVER({});\n",
       "            this.ResizeObserver = obs.ResizeObserver;\n",
       "        }\n",
       "    }\n",
       "\n",
       "    this.resizeObserverInstance = new this.ResizeObserver(function (entries) {\n",
       "        var nentries = entries.length;\n",
       "        for (var i = 0; i < nentries; i++) {\n",
       "            var entry = entries[i];\n",
       "            var width, height;\n",
       "            if (entry.contentBoxSize) {\n",
       "                if (entry.contentBoxSize instanceof Array) {\n",
       "                    // Chrome 84 implements new version of spec.\n",
       "                    width = entry.contentBoxSize[0].inlineSize;\n",
       "                    height = entry.contentBoxSize[0].blockSize;\n",
       "                } else {\n",
       "                    // Firefox implements old version of spec.\n",
       "                    width = entry.contentBoxSize.inlineSize;\n",
       "                    height = entry.contentBoxSize.blockSize;\n",
       "                }\n",
       "            } else {\n",
       "                // Chrome <84 implements even older version of spec.\n",
       "                width = entry.contentRect.width;\n",
       "                height = entry.contentRect.height;\n",
       "            }\n",
       "\n",
       "            // Keep the size of the canvas and rubber band canvas in sync with\n",
       "            // the canvas container.\n",
       "            if (entry.devicePixelContentBoxSize) {\n",
       "                // Chrome 84 implements new version of spec.\n",
       "                canvas.setAttribute(\n",
       "                    'width',\n",
       "                    entry.devicePixelContentBoxSize[0].inlineSize\n",
       "                );\n",
       "                canvas.setAttribute(\n",
       "                    'height',\n",
       "                    entry.devicePixelContentBoxSize[0].blockSize\n",
       "                );\n",
       "            } else {\n",
       "                canvas.setAttribute('width', width * fig.ratio);\n",
       "                canvas.setAttribute('height', height * fig.ratio);\n",
       "            }\n",
       "            canvas.setAttribute(\n",
       "                'style',\n",
       "                'width: ' + width + 'px; height: ' + height + 'px;'\n",
       "            );\n",
       "\n",
       "            rubberband_canvas.setAttribute('width', width);\n",
       "            rubberband_canvas.setAttribute('height', height);\n",
       "\n",
       "            // And update the size in Python. We ignore the initial 0/0 size\n",
       "            // that occurs as the element is placed into the DOM, which should\n",
       "            // otherwise not happen due to the minimum size styling.\n",
       "            if (fig.ws.readyState == 1 && width != 0 && height != 0) {\n",
       "                fig.request_resize(width, height);\n",
       "            }\n",
       "        }\n",
       "    });\n",
       "    this.resizeObserverInstance.observe(canvas_div);\n",
       "\n",
       "    function on_mouse_event_closure(name) {\n",
       "        return function (event) {\n",
       "            return fig.mouse_event(event, name);\n",
       "        };\n",
       "    }\n",
       "\n",
       "    rubberband_canvas.addEventListener(\n",
       "        'mousedown',\n",
       "        on_mouse_event_closure('button_press')\n",
       "    );\n",
       "    rubberband_canvas.addEventListener(\n",
       "        'mouseup',\n",
       "        on_mouse_event_closure('button_release')\n",
       "    );\n",
       "    rubberband_canvas.addEventListener(\n",
       "        'dblclick',\n",
       "        on_mouse_event_closure('dblclick')\n",
       "    );\n",
       "    // Throttle sequential mouse events to 1 every 20ms.\n",
       "    rubberband_canvas.addEventListener(\n",
       "        'mousemove',\n",
       "        on_mouse_event_closure('motion_notify')\n",
       "    );\n",
       "\n",
       "    rubberband_canvas.addEventListener(\n",
       "        'mouseenter',\n",
       "        on_mouse_event_closure('figure_enter')\n",
       "    );\n",
       "    rubberband_canvas.addEventListener(\n",
       "        'mouseleave',\n",
       "        on_mouse_event_closure('figure_leave')\n",
       "    );\n",
       "\n",
       "    canvas_div.addEventListener('wheel', function (event) {\n",
       "        if (event.deltaY < 0) {\n",
       "            event.step = 1;\n",
       "        } else {\n",
       "            event.step = -1;\n",
       "        }\n",
       "        on_mouse_event_closure('scroll')(event);\n",
       "    });\n",
       "\n",
       "    canvas_div.appendChild(canvas);\n",
       "    canvas_div.appendChild(rubberband_canvas);\n",
       "\n",
       "    this.rubberband_context = rubberband_canvas.getContext('2d');\n",
       "    this.rubberband_context.strokeStyle = '#000000';\n",
       "\n",
       "    this._resize_canvas = function (width, height, forward) {\n",
       "        if (forward) {\n",
       "            canvas_div.style.width = width + 'px';\n",
       "            canvas_div.style.height = height + 'px';\n",
       "        }\n",
       "    };\n",
       "\n",
       "    // Disable right mouse context menu.\n",
       "    this.rubberband_canvas.addEventListener('contextmenu', function (_e) {\n",
       "        event.preventDefault();\n",
       "        return false;\n",
       "    });\n",
       "\n",
       "    function set_focus() {\n",
       "        canvas.focus();\n",
       "        canvas_div.focus();\n",
       "    }\n",
       "\n",
       "    window.setTimeout(set_focus, 100);\n",
       "};\n",
       "\n",
       "mpl.figure.prototype._init_toolbar = function () {\n",
       "    var fig = this;\n",
       "\n",
       "    var toolbar = document.createElement('div');\n",
       "    toolbar.classList = 'mpl-toolbar';\n",
       "    this.root.appendChild(toolbar);\n",
       "\n",
       "    function on_click_closure(name) {\n",
       "        return function (_event) {\n",
       "            return fig.toolbar_button_onclick(name);\n",
       "        };\n",
       "    }\n",
       "\n",
       "    function on_mouseover_closure(tooltip) {\n",
       "        return function (event) {\n",
       "            if (!event.currentTarget.disabled) {\n",
       "                return fig.toolbar_button_onmouseover(tooltip);\n",
       "            }\n",
       "        };\n",
       "    }\n",
       "\n",
       "    fig.buttons = {};\n",
       "    var buttonGroup = document.createElement('div');\n",
       "    buttonGroup.classList = 'mpl-button-group';\n",
       "    for (var toolbar_ind in mpl.toolbar_items) {\n",
       "        var name = mpl.toolbar_items[toolbar_ind][0];\n",
       "        var tooltip = mpl.toolbar_items[toolbar_ind][1];\n",
       "        var image = mpl.toolbar_items[toolbar_ind][2];\n",
       "        var method_name = mpl.toolbar_items[toolbar_ind][3];\n",
       "\n",
       "        if (!name) {\n",
       "            /* Instead of a spacer, we start a new button group. */\n",
       "            if (buttonGroup.hasChildNodes()) {\n",
       "                toolbar.appendChild(buttonGroup);\n",
       "            }\n",
       "            buttonGroup = document.createElement('div');\n",
       "            buttonGroup.classList = 'mpl-button-group';\n",
       "            continue;\n",
       "        }\n",
       "\n",
       "        var button = (fig.buttons[name] = document.createElement('button'));\n",
       "        button.classList = 'mpl-widget';\n",
       "        button.setAttribute('role', 'button');\n",
       "        button.setAttribute('aria-disabled', 'false');\n",
       "        button.addEventListener('click', on_click_closure(method_name));\n",
       "        button.addEventListener('mouseover', on_mouseover_closure(tooltip));\n",
       "\n",
       "        var icon_img = document.createElement('img');\n",
       "        icon_img.src = '_images/' + image + '.png';\n",
       "        icon_img.srcset = '_images/' + image + '_large.png 2x';\n",
       "        icon_img.alt = tooltip;\n",
       "        button.appendChild(icon_img);\n",
       "\n",
       "        buttonGroup.appendChild(button);\n",
       "    }\n",
       "\n",
       "    if (buttonGroup.hasChildNodes()) {\n",
       "        toolbar.appendChild(buttonGroup);\n",
       "    }\n",
       "\n",
       "    var fmt_picker = document.createElement('select');\n",
       "    fmt_picker.classList = 'mpl-widget';\n",
       "    toolbar.appendChild(fmt_picker);\n",
       "    this.format_dropdown = fmt_picker;\n",
       "\n",
       "    for (var ind in mpl.extensions) {\n",
       "        var fmt = mpl.extensions[ind];\n",
       "        var option = document.createElement('option');\n",
       "        option.selected = fmt === mpl.default_extension;\n",
       "        option.innerHTML = fmt;\n",
       "        fmt_picker.appendChild(option);\n",
       "    }\n",
       "\n",
       "    var status_bar = document.createElement('span');\n",
       "    status_bar.classList = 'mpl-message';\n",
       "    toolbar.appendChild(status_bar);\n",
       "    this.message = status_bar;\n",
       "};\n",
       "\n",
       "mpl.figure.prototype.request_resize = function (x_pixels, y_pixels) {\n",
       "    // Request matplotlib to resize the figure. Matplotlib will then trigger a resize in the client,\n",
       "    // which will in turn request a refresh of the image.\n",
       "    this.send_message('resize', { width: x_pixels, height: y_pixels });\n",
       "};\n",
       "\n",
       "mpl.figure.prototype.send_message = function (type, properties) {\n",
       "    properties['type'] = type;\n",
       "    properties['figure_id'] = this.id;\n",
       "    this.ws.send(JSON.stringify(properties));\n",
       "};\n",
       "\n",
       "mpl.figure.prototype.send_draw_message = function () {\n",
       "    if (!this.waiting) {\n",
       "        this.waiting = true;\n",
       "        this.ws.send(JSON.stringify({ type: 'draw', figure_id: this.id }));\n",
       "    }\n",
       "};\n",
       "\n",
       "mpl.figure.prototype.handle_save = function (fig, _msg) {\n",
       "    var format_dropdown = fig.format_dropdown;\n",
       "    var format = format_dropdown.options[format_dropdown.selectedIndex].value;\n",
       "    fig.ondownload(fig, format);\n",
       "};\n",
       "\n",
       "mpl.figure.prototype.handle_resize = function (fig, msg) {\n",
       "    var size = msg['size'];\n",
       "    if (size[0] !== fig.canvas.width || size[1] !== fig.canvas.height) {\n",
       "        fig._resize_canvas(size[0], size[1], msg['forward']);\n",
       "        fig.send_message('refresh', {});\n",
       "    }\n",
       "};\n",
       "\n",
       "mpl.figure.prototype.handle_rubberband = function (fig, msg) {\n",
       "    var x0 = msg['x0'] / fig.ratio;\n",
       "    var y0 = (fig.canvas.height - msg['y0']) / fig.ratio;\n",
       "    var x1 = msg['x1'] / fig.ratio;\n",
       "    var y1 = (fig.canvas.height - msg['y1']) / fig.ratio;\n",
       "    x0 = Math.floor(x0) + 0.5;\n",
       "    y0 = Math.floor(y0) + 0.5;\n",
       "    x1 = Math.floor(x1) + 0.5;\n",
       "    y1 = Math.floor(y1) + 0.5;\n",
       "    var min_x = Math.min(x0, x1);\n",
       "    var min_y = Math.min(y0, y1);\n",
       "    var width = Math.abs(x1 - x0);\n",
       "    var height = Math.abs(y1 - y0);\n",
       "\n",
       "    fig.rubberband_context.clearRect(\n",
       "        0,\n",
       "        0,\n",
       "        fig.canvas.width / fig.ratio,\n",
       "        fig.canvas.height / fig.ratio\n",
       "    );\n",
       "\n",
       "    fig.rubberband_context.strokeRect(min_x, min_y, width, height);\n",
       "};\n",
       "\n",
       "mpl.figure.prototype.handle_figure_label = function (fig, msg) {\n",
       "    // Updates the figure title.\n",
       "    fig.header.textContent = msg['label'];\n",
       "};\n",
       "\n",
       "mpl.figure.prototype.handle_cursor = function (fig, msg) {\n",
       "    var cursor = msg['cursor'];\n",
       "    switch (cursor) {\n",
       "        case 0:\n",
       "            cursor = 'pointer';\n",
       "            break;\n",
       "        case 1:\n",
       "            cursor = 'default';\n",
       "            break;\n",
       "        case 2:\n",
       "            cursor = 'crosshair';\n",
       "            break;\n",
       "        case 3:\n",
       "            cursor = 'move';\n",
       "            break;\n",
       "    }\n",
       "    fig.rubberband_canvas.style.cursor = cursor;\n",
       "};\n",
       "\n",
       "mpl.figure.prototype.handle_message = function (fig, msg) {\n",
       "    fig.message.textContent = msg['message'];\n",
       "};\n",
       "\n",
       "mpl.figure.prototype.handle_draw = function (fig, _msg) {\n",
       "    // Request the server to send over a new figure.\n",
       "    fig.send_draw_message();\n",
       "};\n",
       "\n",
       "mpl.figure.prototype.handle_image_mode = function (fig, msg) {\n",
       "    fig.image_mode = msg['mode'];\n",
       "};\n",
       "\n",
       "mpl.figure.prototype.handle_history_buttons = function (fig, msg) {\n",
       "    for (var key in msg) {\n",
       "        if (!(key in fig.buttons)) {\n",
       "            continue;\n",
       "        }\n",
       "        fig.buttons[key].disabled = !msg[key];\n",
       "        fig.buttons[key].setAttribute('aria-disabled', !msg[key]);\n",
       "    }\n",
       "};\n",
       "\n",
       "mpl.figure.prototype.handle_navigate_mode = function (fig, msg) {\n",
       "    if (msg['mode'] === 'PAN') {\n",
       "        fig.buttons['Pan'].classList.add('active');\n",
       "        fig.buttons['Zoom'].classList.remove('active');\n",
       "    } else if (msg['mode'] === 'ZOOM') {\n",
       "        fig.buttons['Pan'].classList.remove('active');\n",
       "        fig.buttons['Zoom'].classList.add('active');\n",
       "    } else {\n",
       "        fig.buttons['Pan'].classList.remove('active');\n",
       "        fig.buttons['Zoom'].classList.remove('active');\n",
       "    }\n",
       "};\n",
       "\n",
       "mpl.figure.prototype.updated_canvas_event = function () {\n",
       "    // Called whenever the canvas gets updated.\n",
       "    this.send_message('ack', {});\n",
       "};\n",
       "\n",
       "// A function to construct a web socket function for onmessage handling.\n",
       "// Called in the figure constructor.\n",
       "mpl.figure.prototype._make_on_message_function = function (fig) {\n",
       "    return function socket_on_message(evt) {\n",
       "        if (evt.data instanceof Blob) {\n",
       "            var img = evt.data;\n",
       "            if (img.type !== 'image/png') {\n",
       "                /* FIXME: We get \"Resource interpreted as Image but\n",
       "                 * transferred with MIME type text/plain:\" errors on\n",
       "                 * Chrome.  But how to set the MIME type?  It doesn't seem\n",
       "                 * to be part of the websocket stream */\n",
       "                img.type = 'image/png';\n",
       "            }\n",
       "\n",
       "            /* Free the memory for the previous frames */\n",
       "            if (fig.imageObj.src) {\n",
       "                (window.URL || window.webkitURL).revokeObjectURL(\n",
       "                    fig.imageObj.src\n",
       "                );\n",
       "            }\n",
       "\n",
       "            fig.imageObj.src = (window.URL || window.webkitURL).createObjectURL(\n",
       "                img\n",
       "            );\n",
       "            fig.updated_canvas_event();\n",
       "            fig.waiting = false;\n",
       "            return;\n",
       "        } else if (\n",
       "            typeof evt.data === 'string' &&\n",
       "            evt.data.slice(0, 21) === 'data:image/png;base64'\n",
       "        ) {\n",
       "            fig.imageObj.src = evt.data;\n",
       "            fig.updated_canvas_event();\n",
       "            fig.waiting = false;\n",
       "            return;\n",
       "        }\n",
       "\n",
       "        var msg = JSON.parse(evt.data);\n",
       "        var msg_type = msg['type'];\n",
       "\n",
       "        // Call the  \"handle_{type}\" callback, which takes\n",
       "        // the figure and JSON message as its only arguments.\n",
       "        try {\n",
       "            var callback = fig['handle_' + msg_type];\n",
       "        } catch (e) {\n",
       "            console.log(\n",
       "                \"No handler for the '\" + msg_type + \"' message type: \",\n",
       "                msg\n",
       "            );\n",
       "            return;\n",
       "        }\n",
       "\n",
       "        if (callback) {\n",
       "            try {\n",
       "                // console.log(\"Handling '\" + msg_type + \"' message: \", msg);\n",
       "                callback(fig, msg);\n",
       "            } catch (e) {\n",
       "                console.log(\n",
       "                    \"Exception inside the 'handler_\" + msg_type + \"' callback:\",\n",
       "                    e,\n",
       "                    e.stack,\n",
       "                    msg\n",
       "                );\n",
       "            }\n",
       "        }\n",
       "    };\n",
       "};\n",
       "\n",
       "// from http://stackoverflow.com/questions/1114465/getting-mouse-location-in-canvas\n",
       "mpl.findpos = function (e) {\n",
       "    //this section is from http://www.quirksmode.org/js/events_properties.html\n",
       "    var targ;\n",
       "    if (!e) {\n",
       "        e = window.event;\n",
       "    }\n",
       "    if (e.target) {\n",
       "        targ = e.target;\n",
       "    } else if (e.srcElement) {\n",
       "        targ = e.srcElement;\n",
       "    }\n",
       "    if (targ.nodeType === 3) {\n",
       "        // defeat Safari bug\n",
       "        targ = targ.parentNode;\n",
       "    }\n",
       "\n",
       "    // pageX,Y are the mouse positions relative to the document\n",
       "    var boundingRect = targ.getBoundingClientRect();\n",
       "    var x = e.pageX - (boundingRect.left + document.body.scrollLeft);\n",
       "    var y = e.pageY - (boundingRect.top + document.body.scrollTop);\n",
       "\n",
       "    return { x: x, y: y };\n",
       "};\n",
       "\n",
       "/*\n",
       " * return a copy of an object with only non-object keys\n",
       " * we need this to avoid circular references\n",
       " * http://stackoverflow.com/a/24161582/3208463\n",
       " */\n",
       "function simpleKeys(original) {\n",
       "    return Object.keys(original).reduce(function (obj, key) {\n",
       "        if (typeof original[key] !== 'object') {\n",
       "            obj[key] = original[key];\n",
       "        }\n",
       "        return obj;\n",
       "    }, {});\n",
       "}\n",
       "\n",
       "mpl.figure.prototype.mouse_event = function (event, name) {\n",
       "    var canvas_pos = mpl.findpos(event);\n",
       "\n",
       "    if (name === 'button_press') {\n",
       "        this.canvas.focus();\n",
       "        this.canvas_div.focus();\n",
       "    }\n",
       "\n",
       "    var x = canvas_pos.x * this.ratio;\n",
       "    var y = canvas_pos.y * this.ratio;\n",
       "\n",
       "    this.send_message(name, {\n",
       "        x: x,\n",
       "        y: y,\n",
       "        button: event.button,\n",
       "        step: event.step,\n",
       "        guiEvent: simpleKeys(event),\n",
       "    });\n",
       "\n",
       "    /* This prevents the web browser from automatically changing to\n",
       "     * the text insertion cursor when the button is pressed.  We want\n",
       "     * to control all of the cursor setting manually through the\n",
       "     * 'cursor' event from matplotlib */\n",
       "    event.preventDefault();\n",
       "    return false;\n",
       "};\n",
       "\n",
       "mpl.figure.prototype._key_event_extra = function (_event, _name) {\n",
       "    // Handle any extra behaviour associated with a key event\n",
       "};\n",
       "\n",
       "mpl.figure.prototype.key_event = function (event, name) {\n",
       "    // Prevent repeat events\n",
       "    if (name === 'key_press') {\n",
       "        if (event.key === this._key) {\n",
       "            return;\n",
       "        } else {\n",
       "            this._key = event.key;\n",
       "        }\n",
       "    }\n",
       "    if (name === 'key_release') {\n",
       "        this._key = null;\n",
       "    }\n",
       "\n",
       "    var value = '';\n",
       "    if (event.ctrlKey && event.key !== 'Control') {\n",
       "        value += 'ctrl+';\n",
       "    }\n",
       "    else if (event.altKey && event.key !== 'Alt') {\n",
       "        value += 'alt+';\n",
       "    }\n",
       "    else if (event.shiftKey && event.key !== 'Shift') {\n",
       "        value += 'shift+';\n",
       "    }\n",
       "\n",
       "    value += 'k' + event.key;\n",
       "\n",
       "    this._key_event_extra(event, name);\n",
       "\n",
       "    this.send_message(name, { key: value, guiEvent: simpleKeys(event) });\n",
       "    return false;\n",
       "};\n",
       "\n",
       "mpl.figure.prototype.toolbar_button_onclick = function (name) {\n",
       "    if (name === 'download') {\n",
       "        this.handle_save(this, null);\n",
       "    } else {\n",
       "        this.send_message('toolbar_button', { name: name });\n",
       "    }\n",
       "};\n",
       "\n",
       "mpl.figure.prototype.toolbar_button_onmouseover = function (tooltip) {\n",
       "    this.message.textContent = tooltip;\n",
       "};\n",
       "\n",
       "///////////////// REMAINING CONTENT GENERATED BY embed_js.py /////////////////\n",
       "// prettier-ignore\n",
       "var _JSXTOOLS_RESIZE_OBSERVER=function(A){var t,i=new WeakMap,n=new WeakMap,a=new WeakMap,r=new WeakMap,o=new Set;function s(e){if(!(this instanceof s))throw new TypeError(\"Constructor requires 'new' operator\");i.set(this,e)}function h(){throw new TypeError(\"Function is not a constructor\")}function c(e,t,i,n){e=0 in arguments?Number(arguments[0]):0,t=1 in arguments?Number(arguments[1]):0,i=2 in arguments?Number(arguments[2]):0,n=3 in arguments?Number(arguments[3]):0,this.right=(this.x=this.left=e)+(this.width=i),this.bottom=(this.y=this.top=t)+(this.height=n),Object.freeze(this)}function d(){t=requestAnimationFrame(d);var s=new WeakMap,p=new Set;o.forEach((function(t){r.get(t).forEach((function(i){var r=t instanceof window.SVGElement,o=a.get(t),d=r?0:parseFloat(o.paddingTop),f=r?0:parseFloat(o.paddingRight),l=r?0:parseFloat(o.paddingBottom),u=r?0:parseFloat(o.paddingLeft),g=r?0:parseFloat(o.borderTopWidth),m=r?0:parseFloat(o.borderRightWidth),w=r?0:parseFloat(o.borderBottomWidth),b=u+f,F=d+l,v=(r?0:parseFloat(o.borderLeftWidth))+m,W=g+w,y=r?0:t.offsetHeight-W-t.clientHeight,E=r?0:t.offsetWidth-v-t.clientWidth,R=b+v,z=F+W,M=r?t.width:parseFloat(o.width)-R-E,O=r?t.height:parseFloat(o.height)-z-y;if(n.has(t)){var k=n.get(t);if(k[0]===M&&k[1]===O)return}n.set(t,[M,O]);var S=Object.create(h.prototype);S.target=t,S.contentRect=new c(u,d,M,O),s.has(i)||(s.set(i,[]),p.add(i)),s.get(i).push(S)}))})),p.forEach((function(e){i.get(e).call(e,s.get(e),e)}))}return s.prototype.observe=function(i){if(i instanceof window.Element){r.has(i)||(r.set(i,new Set),o.add(i),a.set(i,window.getComputedStyle(i)));var n=r.get(i);n.has(this)||n.add(this),cancelAnimationFrame(t),t=requestAnimationFrame(d)}},s.prototype.unobserve=function(i){if(i instanceof window.Element&&r.has(i)){var n=r.get(i);n.has(this)&&(n.delete(this),n.size||(r.delete(i),o.delete(i))),n.size||r.delete(i),o.size||cancelAnimationFrame(t)}},A.DOMRectReadOnly=c,A.ResizeObserver=s,A.ResizeObserverEntry=h,A}; // eslint-disable-line\n",
       "mpl.toolbar_items = [[\"Home\", \"Reset original view\", \"fa fa-home icon-home\", \"home\"], [\"Back\", \"Back to previous view\", \"fa fa-arrow-left icon-arrow-left\", \"back\"], [\"Forward\", \"Forward to next view\", \"fa fa-arrow-right icon-arrow-right\", \"forward\"], [\"\", \"\", \"\", \"\"], [\"Pan\", \"Left button pans, Right button zooms\\nx/y fixes axis, CTRL fixes aspect\", \"fa fa-arrows icon-move\", \"pan\"], [\"Zoom\", \"Zoom to rectangle\\nx/y fixes axis, CTRL fixes aspect\", \"fa fa-square-o icon-check-empty\", \"zoom\"], [\"\", \"\", \"\", \"\"], [\"Download\", \"Download plot\", \"fa fa-floppy-o icon-save\", \"download\"]];\n",
       "\n",
       "mpl.extensions = [\"eps\", \"jpeg\", \"pgf\", \"pdf\", \"png\", \"ps\", \"raw\", \"svg\", \"tif\"];\n",
       "\n",
       "mpl.default_extension = \"png\";/* global mpl */\n",
       "\n",
       "var comm_websocket_adapter = function (comm) {\n",
       "    // Create a \"websocket\"-like object which calls the given IPython comm\n",
       "    // object with the appropriate methods. Currently this is a non binary\n",
       "    // socket, so there is still some room for performance tuning.\n",
       "    var ws = {};\n",
       "\n",
       "    ws.binaryType = comm.kernel.ws.binaryType;\n",
       "    ws.readyState = comm.kernel.ws.readyState;\n",
       "    function updateReadyState(_event) {\n",
       "        if (comm.kernel.ws) {\n",
       "            ws.readyState = comm.kernel.ws.readyState;\n",
       "        } else {\n",
       "            ws.readyState = 3; // Closed state.\n",
       "        }\n",
       "    }\n",
       "    comm.kernel.ws.addEventListener('open', updateReadyState);\n",
       "    comm.kernel.ws.addEventListener('close', updateReadyState);\n",
       "    comm.kernel.ws.addEventListener('error', updateReadyState);\n",
       "\n",
       "    ws.close = function () {\n",
       "        comm.close();\n",
       "    };\n",
       "    ws.send = function (m) {\n",
       "        //console.log('sending', m);\n",
       "        comm.send(m);\n",
       "    };\n",
       "    // Register the callback with on_msg.\n",
       "    comm.on_msg(function (msg) {\n",
       "        //console.log('receiving', msg['content']['data'], msg);\n",
       "        var data = msg['content']['data'];\n",
       "        if (data['blob'] !== undefined) {\n",
       "            data = {\n",
       "                data: new Blob(msg['buffers'], { type: data['blob'] }),\n",
       "            };\n",
       "        }\n",
       "        // Pass the mpl event to the overridden (by mpl) onmessage function.\n",
       "        ws.onmessage(data);\n",
       "    });\n",
       "    return ws;\n",
       "};\n",
       "\n",
       "mpl.mpl_figure_comm = function (comm, msg) {\n",
       "    // This is the function which gets called when the mpl process\n",
       "    // starts-up an IPython Comm through the \"matplotlib\" channel.\n",
       "\n",
       "    var id = msg.content.data.id;\n",
       "    // Get hold of the div created by the display call when the Comm\n",
       "    // socket was opened in Python.\n",
       "    var element = document.getElementById(id);\n",
       "    var ws_proxy = comm_websocket_adapter(comm);\n",
       "\n",
       "    function ondownload(figure, _format) {\n",
       "        window.open(figure.canvas.toDataURL());\n",
       "    }\n",
       "\n",
       "    var fig = new mpl.figure(id, ws_proxy, ondownload, element);\n",
       "\n",
       "    // Call onopen now - mpl needs it, as it is assuming we've passed it a real\n",
       "    // web socket which is closed, not our websocket->open comm proxy.\n",
       "    ws_proxy.onopen();\n",
       "\n",
       "    fig.parent_element = element;\n",
       "    fig.cell_info = mpl.find_output_cell(\"<div id='\" + id + \"'></div>\");\n",
       "    if (!fig.cell_info) {\n",
       "        console.error('Failed to find cell for figure', id, fig);\n",
       "        return;\n",
       "    }\n",
       "    fig.cell_info[0].output_area.element.on(\n",
       "        'cleared',\n",
       "        { fig: fig },\n",
       "        fig._remove_fig_handler\n",
       "    );\n",
       "};\n",
       "\n",
       "mpl.figure.prototype.handle_close = function (fig, msg) {\n",
       "    var width = fig.canvas.width / fig.ratio;\n",
       "    fig.cell_info[0].output_area.element.off(\n",
       "        'cleared',\n",
       "        fig._remove_fig_handler\n",
       "    );\n",
       "    fig.resizeObserverInstance.unobserve(fig.canvas_div);\n",
       "\n",
       "    // Update the output cell to use the data from the current canvas.\n",
       "    fig.push_to_output();\n",
       "    var dataURL = fig.canvas.toDataURL();\n",
       "    // Re-enable the keyboard manager in IPython - without this line, in FF,\n",
       "    // the notebook keyboard shortcuts fail.\n",
       "    IPython.keyboard_manager.enable();\n",
       "    fig.parent_element.innerHTML =\n",
       "        '<img src=\"' + dataURL + '\" width=\"' + width + '\">';\n",
       "    fig.close_ws(fig, msg);\n",
       "};\n",
       "\n",
       "mpl.figure.prototype.close_ws = function (fig, msg) {\n",
       "    fig.send_message('closing', msg);\n",
       "    // fig.ws.close()\n",
       "};\n",
       "\n",
       "mpl.figure.prototype.push_to_output = function (_remove_interactive) {\n",
       "    // Turn the data on the canvas into data in the output cell.\n",
       "    var width = this.canvas.width / this.ratio;\n",
       "    var dataURL = this.canvas.toDataURL();\n",
       "    this.cell_info[1]['text/html'] =\n",
       "        '<img src=\"' + dataURL + '\" width=\"' + width + '\">';\n",
       "};\n",
       "\n",
       "mpl.figure.prototype.updated_canvas_event = function () {\n",
       "    // Tell IPython that the notebook contents must change.\n",
       "    IPython.notebook.set_dirty(true);\n",
       "    this.send_message('ack', {});\n",
       "    var fig = this;\n",
       "    // Wait a second, then push the new image to the DOM so\n",
       "    // that it is saved nicely (might be nice to debounce this).\n",
       "    setTimeout(function () {\n",
       "        fig.push_to_output();\n",
       "    }, 1000);\n",
       "};\n",
       "\n",
       "mpl.figure.prototype._init_toolbar = function () {\n",
       "    var fig = this;\n",
       "\n",
       "    var toolbar = document.createElement('div');\n",
       "    toolbar.classList = 'btn-toolbar';\n",
       "    this.root.appendChild(toolbar);\n",
       "\n",
       "    function on_click_closure(name) {\n",
       "        return function (_event) {\n",
       "            return fig.toolbar_button_onclick(name);\n",
       "        };\n",
       "    }\n",
       "\n",
       "    function on_mouseover_closure(tooltip) {\n",
       "        return function (event) {\n",
       "            if (!event.currentTarget.disabled) {\n",
       "                return fig.toolbar_button_onmouseover(tooltip);\n",
       "            }\n",
       "        };\n",
       "    }\n",
       "\n",
       "    fig.buttons = {};\n",
       "    var buttonGroup = document.createElement('div');\n",
       "    buttonGroup.classList = 'btn-group';\n",
       "    var button;\n",
       "    for (var toolbar_ind in mpl.toolbar_items) {\n",
       "        var name = mpl.toolbar_items[toolbar_ind][0];\n",
       "        var tooltip = mpl.toolbar_items[toolbar_ind][1];\n",
       "        var image = mpl.toolbar_items[toolbar_ind][2];\n",
       "        var method_name = mpl.toolbar_items[toolbar_ind][3];\n",
       "\n",
       "        if (!name) {\n",
       "            /* Instead of a spacer, we start a new button group. */\n",
       "            if (buttonGroup.hasChildNodes()) {\n",
       "                toolbar.appendChild(buttonGroup);\n",
       "            }\n",
       "            buttonGroup = document.createElement('div');\n",
       "            buttonGroup.classList = 'btn-group';\n",
       "            continue;\n",
       "        }\n",
       "\n",
       "        button = fig.buttons[name] = document.createElement('button');\n",
       "        button.classList = 'btn btn-default';\n",
       "        button.href = '#';\n",
       "        button.title = name;\n",
       "        button.innerHTML = '<i class=\"fa ' + image + ' fa-lg\"></i>';\n",
       "        button.addEventListener('click', on_click_closure(method_name));\n",
       "        button.addEventListener('mouseover', on_mouseover_closure(tooltip));\n",
       "        buttonGroup.appendChild(button);\n",
       "    }\n",
       "\n",
       "    if (buttonGroup.hasChildNodes()) {\n",
       "        toolbar.appendChild(buttonGroup);\n",
       "    }\n",
       "\n",
       "    // Add the status bar.\n",
       "    var status_bar = document.createElement('span');\n",
       "    status_bar.classList = 'mpl-message pull-right';\n",
       "    toolbar.appendChild(status_bar);\n",
       "    this.message = status_bar;\n",
       "\n",
       "    // Add the close button to the window.\n",
       "    var buttongrp = document.createElement('div');\n",
       "    buttongrp.classList = 'btn-group inline pull-right';\n",
       "    button = document.createElement('button');\n",
       "    button.classList = 'btn btn-mini btn-primary';\n",
       "    button.href = '#';\n",
       "    button.title = 'Stop Interaction';\n",
       "    button.innerHTML = '<i class=\"fa fa-power-off icon-remove icon-large\"></i>';\n",
       "    button.addEventListener('click', function (_evt) {\n",
       "        fig.handle_close(fig, {});\n",
       "    });\n",
       "    button.addEventListener(\n",
       "        'mouseover',\n",
       "        on_mouseover_closure('Stop Interaction')\n",
       "    );\n",
       "    buttongrp.appendChild(button);\n",
       "    var titlebar = this.root.querySelector('.ui-dialog-titlebar');\n",
       "    titlebar.insertBefore(buttongrp, titlebar.firstChild);\n",
       "};\n",
       "\n",
       "mpl.figure.prototype._remove_fig_handler = function (event) {\n",
       "    var fig = event.data.fig;\n",
       "    if (event.target !== this) {\n",
       "        // Ignore bubbled events from children.\n",
       "        return;\n",
       "    }\n",
       "    fig.close_ws(fig, {});\n",
       "};\n",
       "\n",
       "mpl.figure.prototype._root_extra_style = function (el) {\n",
       "    el.style.boxSizing = 'content-box'; // override notebook setting of border-box.\n",
       "};\n",
       "\n",
       "mpl.figure.prototype._canvas_extra_style = function (el) {\n",
       "    // this is important to make the div 'focusable\n",
       "    el.setAttribute('tabindex', 0);\n",
       "    // reach out to IPython and tell the keyboard manager to turn it's self\n",
       "    // off when our div gets focus\n",
       "\n",
       "    // location in version 3\n",
       "    if (IPython.notebook.keyboard_manager) {\n",
       "        IPython.notebook.keyboard_manager.register_events(el);\n",
       "    } else {\n",
       "        // location in version 2\n",
       "        IPython.keyboard_manager.register_events(el);\n",
       "    }\n",
       "};\n",
       "\n",
       "mpl.figure.prototype._key_event_extra = function (event, _name) {\n",
       "    var manager = IPython.notebook.keyboard_manager;\n",
       "    if (!manager) {\n",
       "        manager = IPython.keyboard_manager;\n",
       "    }\n",
       "\n",
       "    // Check for shift+enter\n",
       "    if (event.shiftKey && event.which === 13) {\n",
       "        this.canvas_div.blur();\n",
       "        // select the cell after this one\n",
       "        var index = IPython.notebook.find_cell_index(this.cell_info[0]);\n",
       "        IPython.notebook.select(index + 1);\n",
       "    }\n",
       "};\n",
       "\n",
       "mpl.figure.prototype.handle_save = function (fig, _msg) {\n",
       "    fig.ondownload(fig, null);\n",
       "};\n",
       "\n",
       "mpl.find_output_cell = function (html_output) {\n",
       "    // Return the cell and output element which can be found *uniquely* in the notebook.\n",
       "    // Note - this is a bit hacky, but it is done because the \"notebook_saving.Notebook\"\n",
       "    // IPython event is triggered only after the cells have been serialised, which for\n",
       "    // our purposes (turning an active figure into a static one), is too late.\n",
       "    var cells = IPython.notebook.get_cells();\n",
       "    var ncells = cells.length;\n",
       "    for (var i = 0; i < ncells; i++) {\n",
       "        var cell = cells[i];\n",
       "        if (cell.cell_type === 'code') {\n",
       "            for (var j = 0; j < cell.output_area.outputs.length; j++) {\n",
       "                var data = cell.output_area.outputs[j];\n",
       "                if (data.data) {\n",
       "                    // IPython >= 3 moved mimebundle to data attribute of output\n",
       "                    data = data.data;\n",
       "                }\n",
       "                if (data['text/html'] === html_output) {\n",
       "                    return [cell, data, j];\n",
       "                }\n",
       "            }\n",
       "        }\n",
       "    }\n",
       "};\n",
       "\n",
       "// Register the function which deals with the matplotlib target/channel.\n",
       "// The kernel may be null if the page has been refreshed.\n",
       "if (IPython.notebook.kernel !== null) {\n",
       "    IPython.notebook.kernel.comm_manager.register_target(\n",
       "        'matplotlib',\n",
       "        mpl.mpl_figure_comm\n",
       "    );\n",
       "}\n"
      ],
      "text/plain": [
       "<IPython.core.display.Javascript object>"
      ]
     },
     "metadata": {},
     "output_type": "display_data"
    },
    {
     "data": {
      "text/html": [
       "<img src=\"data:image/png;base64,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\" width=\"1008\">"
      ],
      "text/plain": [
       "<IPython.core.display.HTML object>"
      ]
     },
     "metadata": {},
     "output_type": "display_data"
    }
   ],
   "source": [
    "from matplotlib.animation import FuncAnimation\n",
    "\n",
    "\n",
    "fig = plt.figure(figsize=(14,7))\n",
    "ax1 = plt.subplot(121)\n",
    "ax2 = plt.subplot(222)\n",
    "ax3 = plt.subplot(224)\n",
    "pi_ani = PiAnimation(ax1, ax2, ax3)\n",
    "anim = FuncAnimation(fig, pi_ani, frames=10_000, interval=50, blit=True)\n",
    "plt.show()"
   ]
  },
  {
   "cell_type": "code",
   "execution_count": null,
   "metadata": {},
   "outputs": [],
   "source": []
  }
 ],
 "metadata": {
  "kernelspec": {
   "display_name": "Python 3 (ipykernel)",
   "language": "python",
   "name": "python3"
  },
  "language_info": {
   "codemirror_mode": {
    "name": "ipython",
    "version": 3
   },
   "file_extension": ".py",
   "mimetype": "text/x-python",
   "name": "python",
   "nbconvert_exporter": "python",
   "pygments_lexer": "ipython3",
   "version": "3.8.11"
  }
 },
 "nbformat": 4,
 "nbformat_minor": 4
}
